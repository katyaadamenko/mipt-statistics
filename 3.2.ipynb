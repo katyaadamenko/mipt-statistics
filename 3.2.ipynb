{
 "cells": [
  {
   "cell_type": "markdown",
   "metadata": {},
   "source": [
    "# Задача 3.2"
   ]
  },
  {
   "cell_type": "code",
   "execution_count": 1,
   "metadata": {
    "collapsed": false
   },
   "outputs": [
    {
     "name": "stdout",
     "output_type": "stream",
     "text": [
      "Populating the interactive namespace from numpy and matplotlib\n"
     ]
    }
   ],
   "source": [
    "import numpy as np\n",
    "import scipy.stats as sps\n",
    "import matplotlib.pyplot as plt\n",
    "%pylab inline"
   ]
  },
  {
   "cell_type": "code",
   "execution_count": 2,
   "metadata": {
    "collapsed": true
   },
   "outputs": [],
   "source": [
    "x = np.arange(-1000, 1000, 0.01)"
   ]
  },
  {
   "cell_type": "code",
   "execution_count": 3,
   "metadata": {
    "collapsed": false
   },
   "outputs": [],
   "source": [
    "sample = np.loadtxt('Cauchy.csv')"
   ]
  },
  {
   "cell_type": "code",
   "execution_count": 4,
   "metadata": {
    "collapsed": true
   },
   "outputs": [],
   "source": [
    "from math import log\n",
    "from math import pi"
   ]
  },
  {
   "cell_type": "markdown",
   "metadata": {},
   "source": [
    "Найдём, чему равна логарифмическая функция максимального правдоподобия для распределения Коши с параметрами $\\theta = 1$ и $x_0$ \n",
    "\n",
    "($X$ - выборка $X_1...X_n$)\n",
    "$$f_\\theta (X) = \\prod\\limits_{i=1}^n {\\frac {1}{\\pi(1 + (X_i - x_0)^2)}} = \\frac{1}{\\pi^n \\prod\\limits_{i=1}^n (1 + (X_i - x_0)^2)}$$\n",
    "$$L_\\theta (X) = \\ln{f_\\theta (X)} = - n\\ln{\\pi} - \\sum_{i=1}^n {1 + (X_i - x_0)^2}$$\n",
    "Тогда оценкой максимального правдоподобия параметра $x_0$ будет то значение $x_0$, при котором $L_\\theta (X)$ максимальна."
   ]
  },
  {
   "cell_type": "code",
   "execution_count": 5,
   "metadata": {
    "collapsed": true
   },
   "outputs": [],
   "source": [
    "def x0_evaluation(sample, possible_param):\n",
    "    x_max = possible_param[0]\n",
    "    max_value = - sample.size * log(pi) - np.sum(np.log(1 + (sample - possible_param[0]) ** 2))\n",
    "    for i in range(1, possible_param.size):\n",
    "        cur = - sample.size * log(pi) - np.sum(np.log(1 + (sample - possible_param[i]) ** 2))\n",
    "        if (max_value < cur):\n",
    "            max_value = cur\n",
    "            x_max = possible_param[i]\n",
    "    return x_max"
   ]
  },
  {
   "cell_type": "markdown",
   "metadata": {},
   "source": [
    "Оценим параметр сдвига методом максимального правдоподобия по половине выборки:"
   ]
  },
  {
   "cell_type": "code",
   "execution_count": 6,
   "metadata": {
    "collapsed": false
   },
   "outputs": [
    {
     "name": "stdout",
     "output_type": "stream",
     "text": [
      "-764.92\n"
     ]
    }
   ],
   "source": [
    "print x0_evaluation(sample[: sample.size / 2], x)"
   ]
  },
  {
   "cell_type": "markdown",
   "metadata": {
    "collapsed": true
   },
   "source": [
    "По всей выборке:"
   ]
  },
  {
   "cell_type": "code",
   "execution_count": 7,
   "metadata": {
    "collapsed": false,
    "scrolled": true
   },
   "outputs": [
    {
     "name": "stdout",
     "output_type": "stream",
     "text": [
      "-764.96\n"
     ]
    }
   ],
   "source": [
    "print x0_evaluation(sample, x)"
   ]
  }
 ],
 "metadata": {
  "kernelspec": {
   "display_name": "Python 2",
   "language": "python",
   "name": "python2"
  },
  "language_info": {
   "codemirror_mode": {
    "name": "ipython",
    "version": 2
   },
   "file_extension": ".py",
   "mimetype": "text/x-python",
   "name": "python",
   "nbconvert_exporter": "python",
   "pygments_lexer": "ipython2",
   "version": "2.7.11"
  }
 },
 "nbformat": 4,
 "nbformat_minor": 0
}
