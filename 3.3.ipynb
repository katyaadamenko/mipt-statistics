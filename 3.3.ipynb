{
 "cells": [
  {
   "cell_type": "markdown",
   "metadata": {},
   "source": [
    "# Задача 3.3"
   ]
  },
  {
   "cell_type": "code",
   "execution_count": 1,
   "metadata": {
    "collapsed": false
   },
   "outputs": [
    {
     "name": "stdout",
     "output_type": "stream",
     "text": [
      "Populating the interactive namespace from numpy and matplotlib\n"
     ]
    }
   ],
   "source": [
    "import numpy as np\n",
    "import scipy.stats as sps\n",
    "import matplotlib.pyplot as plt\n",
    "import pandas as pd\n",
    "%pylab inline"
   ]
  },
  {
   "cell_type": "code",
   "execution_count": 18,
   "metadata": {
    "collapsed": false
   },
   "outputs": [],
   "source": [
    "sample = np.loadtxt('Weibull.csv')"
   ]
  },
  {
   "cell_type": "markdown",
   "metadata": {},
   "source": [
    "Заменим нулевые значения членов выборки на 0.0001:"
   ]
  },
  {
   "cell_type": "code",
   "execution_count": 19,
   "metadata": {
    "collapsed": false
   },
   "outputs": [],
   "source": [
    "sample = np.array([0.0001 if x == 0 else x for x in sample])"
   ]
  },
  {
   "cell_type": "code",
   "execution_count": 20,
   "metadata": {
    "collapsed": true
   },
   "outputs": [],
   "source": [
    "log_c = np.arange(-2, 2, 0.001)"
   ]
  },
  {
   "cell_type": "markdown",
   "metadata": {},
   "source": [
    "Если $X_1...X_n$ - выборка из некоторого распределения с параметром $\\theta$, то \n",
    "$$f_\\theta (X) = \\prod\\limits_{i=1}^n {p_\\theta(X_i)}$$\n",
    "$$L_\\theta (X) = \\sum_{i=1}^n {\\ln(p_\\theta(X_i))}$$"
   ]
  },
  {
   "cell_type": "code",
   "execution_count": 21,
   "metadata": {
    "collapsed": true
   },
   "outputs": [],
   "source": [
    "def estimation_method_max_likelihood(sample, log_of_possible_param):\n",
    "    c_max = 10 ** log_of_possible_param[0]\n",
    "    max_value = float('-inf')\n",
    "    for i in range(log_of_possible_param.size):\n",
    "        log_density = sps.weibull_min.logpdf(sample, 10 ** log_of_possible_param[i])\n",
    "        cur_value = log_density.sum(0)\n",
    "        if (cur_value > max_value):\n",
    "            max_value = cur_value\n",
    "            c_max = 10 ** log_of_possible_param[i]\n",
    "    return c_max"
   ]
  },
  {
   "cell_type": "markdown",
   "metadata": {},
   "source": [
    "Оценим параметр формы методом максимального правдоподобия по первым 4 годам:"
   ]
  },
  {
   "cell_type": "code",
   "execution_count": 22,
   "metadata": {
    "collapsed": false
   },
   "outputs": [
    {
     "name": "stdout",
     "output_type": "stream",
     "text": [
      "0.891250938133\n"
     ]
    }
   ],
   "source": [
    "print estimation_method_max_likelihood(sample[:1461], log_c)"
   ]
  },
  {
   "cell_type": "markdown",
   "metadata": {},
   "source": [
    "Оценим параметр формы методом максимального правдоподобия по всей выборке:"
   ]
  },
  {
   "cell_type": "code",
   "execution_count": 23,
   "metadata": {
    "collapsed": false
   },
   "outputs": [
    {
     "name": "stdout",
     "output_type": "stream",
     "text": [
      "0.89949758153\n"
     ]
    }
   ],
   "source": [
    "print estimation_method_max_likelihood(sample, log_c)"
   ]
  }
 ],
 "metadata": {
  "kernelspec": {
   "display_name": "Python 2",
   "language": "python",
   "name": "python2"
  },
  "language_info": {
   "codemirror_mode": {
    "name": "ipython",
    "version": 2
   },
   "file_extension": ".py",
   "mimetype": "text/x-python",
   "name": "python",
   "nbconvert_exporter": "python",
   "pygments_lexer": "ipython2",
   "version": "2.7.11"
  }
 },
 "nbformat": 4,
 "nbformat_minor": 0
}
