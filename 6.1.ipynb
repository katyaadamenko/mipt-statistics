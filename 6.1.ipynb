{
 "cells": [
  {
   "cell_type": "markdown",
   "metadata": {},
   "source": [
    "# Задача 6.1"
   ]
  },
  {
   "cell_type": "code",
   "execution_count": 2,
   "metadata": {
    "collapsed": false
   },
   "outputs": [
    {
     "name": "stdout",
     "output_type": "stream",
     "text": [
      "Populating the interactive namespace from numpy and matplotlib\n"
     ]
    }
   ],
   "source": [
    "import numpy as np\n",
    "import pandas as pd\n",
    "import scipy.stats as sps\n",
    "import matplotlib.pyplot as plt\n",
    "%pylab inline"
   ]
  },
  {
   "cell_type": "code",
   "execution_count": 3,
   "metadata": {
    "collapsed": false
   },
   "outputs": [
    {
     "name": "stdout",
     "output_type": "stream",
     "text": [
      "lambda = 95\n",
      "t_0 = 500\n",
      "t = 100000\n"
     ]
    }
   ],
   "source": [
    "file_obj = open('6.csv')\n",
    "print file_obj.readline().strip()\n",
    "print file_obj.readline().strip()\n",
    "print file_obj.readline().strip()"
   ]
  },
  {
   "cell_type": "code",
   "execution_count": 4,
   "metadata": {
    "collapsed": true
   },
   "outputs": [],
   "source": [
    "lambda_ = 95\n",
    "t_0 = 500\n",
    "t = 100000"
   ]
  },
  {
   "cell_type": "code",
   "execution_count": 5,
   "metadata": {
    "collapsed": true
   },
   "outputs": [],
   "source": [
    "data = np.array([float(line.strip()) for line in file_obj])"
   ]
  },
  {
   "cell_type": "markdown",
   "metadata": {},
   "source": [
    "Найдём $E(N_t|N_s)$:\n",
    "\n",
    "$$E(N_t | N_s) = E(N_t - N_s + N_s | N_s) = E(N_t - N_s|N_s) + E(N_s|N_s)$$ \n",
    "\n",
    "$(N_t - N_s){\\perp\\!\\!\\!\\perp}N_s \\Rightarrow E(N_t - N_s|N_s)=E(N_t - N_s)$\n",
    "\n",
    "$N_t - N_s \\sim Pois(\\lambda, t - s) \\Rightarrow E(N_t - N_s) = \\lambda \\cdot (t - s)$ \n",
    "\n",
    "$N_s$ - $F_{N_s}$-измеримая случайная величина, значит $E(N_s|N_s) = N_s$. Тогда\n",
    "\n",
    "$$E(N_t | N_s) = \\lambda \\cdot (t - s) + N_s$$"
   ]
  },
  {
   "cell_type": "markdown",
   "metadata": {},
   "source": [
    "$E(N_t|N_s)$ для $s = k \\cdot t_0$, где $0 \\leq k \\cdot t_0 \\leq t$:"
   ]
  },
  {
   "cell_type": "code",
   "execution_count": 6,
   "metadata": {
    "collapsed": false,
    "scrolled": false
   },
   "outputs": [],
   "source": [
    "s = np.arange(0, t + t_0, t_0)\n",
    "N_s = np.array([(data <= cur_t).sum(0) for cur_t in s])\n",
    "result = 1 / float(lambda_) * (t - s) + N_s"
   ]
  },
  {
   "cell_type": "markdown",
   "metadata": {},
   "source": [
    "Вывод программы, предсказывающей сколько серверов нужно докупить к моменту времени t:"
   ]
  },
  {
   "cell_type": "code",
   "execution_count": 7,
   "metadata": {
    "collapsed": false,
    "scrolled": false
   },
   "outputs": [
    {
     "name": "stdout",
     "output_type": "stream",
     "text": [
      "time = 0: 1052\n",
      "time = 500: 1051\n",
      "time = 1000: 1055\n",
      "time = 1500: 1055\n",
      "time = 2000: 1059\n",
      "time = 2500: 1058\n",
      "time = 3000: 1056\n",
      "time = 3500: 1054\n",
      "time = 4000: 1055\n",
      "time = 4500: 1056\n",
      "time = 5000: 1060\n",
      "time = 5500: 1058\n",
      "time = 6000: 1055\n",
      "time = 6500: 1054\n",
      "time = 7000: 1055\n",
      "time = 7500: 1050\n",
      "time = 8000: 1050\n",
      "time = 8500: 1051\n",
      "time = 9000: 1056\n",
      "time = 9500: 1055\n",
      "time = 10000: 1058\n",
      "time = 10500: 1059\n",
      "time = 11000: 1061\n",
      "time = 11500: 1060\n",
      "time = 12000: 1060\n",
      "time = 12500: 1059\n",
      "time = 13000: 1056\n",
      "time = 13500: 1060\n",
      "time = 14000: 1064\n",
      "time = 14500: 1065\n",
      "time = 15000: 1066\n",
      "time = 15500: 1066\n",
      "time = 16000: 1067\n",
      "time = 16500: 1065\n",
      "time = 17000: 1067\n",
      "time = 17500: 1067\n",
      "time = 18000: 1063\n",
      "time = 18500: 1058\n",
      "time = 19000: 1060\n",
      "time = 19500: 1060\n",
      "time = 20000: 1061\n",
      "time = 20500: 1060\n",
      "time = 21000: 1064\n",
      "time = 21500: 1064\n",
      "time = 22000: 1065\n",
      "time = 22500: 1066\n",
      "time = 23000: 1069\n",
      "time = 23500: 1070\n",
      "time = 24000: 1070\n",
      "time = 24500: 1068\n",
      "time = 25000: 1068\n",
      "time = 25500: 1067\n",
      "time = 26000: 1066\n",
      "time = 26500: 1067\n",
      "time = 27000: 1067\n",
      "time = 27500: 1066\n",
      "time = 28000: 1066\n",
      "time = 28500: 1065\n",
      "time = 29000: 1065\n",
      "time = 29500: 1064\n",
      "time = 30000: 1066\n",
      "time = 30500: 1064\n",
      "time = 31000: 1065\n",
      "time = 31500: 1067\n",
      "time = 32000: 1067\n",
      "time = 32500: 1065\n",
      "time = 33000: 1066\n",
      "time = 33500: 1070\n",
      "time = 34000: 1072\n",
      "time = 34500: 1075\n",
      "time = 35000: 1077\n",
      "time = 35500: 1077\n",
      "time = 36000: 1077\n",
      "time = 36500: 1078\n",
      "time = 37000: 1078\n",
      "time = 37500: 1078\n",
      "time = 38000: 1080\n",
      "time = 38500: 1082\n",
      "time = 39000: 1080\n",
      "time = 39500: 1079\n",
      "time = 40000: 1080\n",
      "time = 40500: 1078\n",
      "time = 41000: 1080\n",
      "time = 41500: 1078\n",
      "time = 42000: 1082\n",
      "time = 42500: 1083\n",
      "time = 43000: 1084\n",
      "time = 43500: 1084\n",
      "time = 44000: 1080\n",
      "time = 44500: 1077\n",
      "time = 45000: 1079\n",
      "time = 45500: 1087\n",
      "time = 46000: 1085\n",
      "time = 46500: 1086\n",
      "time = 47000: 1092\n",
      "time = 47500: 1091\n",
      "time = 48000: 1087\n",
      "time = 48500: 1088\n",
      "time = 49000: 1091\n",
      "time = 49500: 1092\n",
      "time = 50000: 1091\n",
      "time = 50500: 1087\n",
      "time = 51000: 1085\n",
      "time = 51500: 1084\n",
      "time = 52000: 1080\n",
      "time = 52500: 1081\n",
      "time = 53000: 1084\n",
      "time = 53500: 1083\n",
      "time = 54000: 1081\n",
      "time = 54500: 1083\n",
      "time = 55000: 1083\n",
      "time = 55500: 1080\n",
      "time = 56000: 1080\n",
      "time = 56500: 1078\n",
      "time = 57000: 1086\n",
      "time = 57500: 1084\n",
      "time = 58000: 1085\n",
      "time = 58500: 1087\n",
      "time = 59000: 1087\n",
      "time = 59500: 1087\n",
      "time = 60000: 1084\n",
      "time = 60500: 1082\n",
      "time = 61000: 1082\n",
      "time = 61500: 1088\n",
      "time = 62000: 1091\n",
      "time = 62500: 1090\n",
      "time = 63000: 1089\n",
      "time = 63500: 1091\n",
      "time = 64000: 1088\n",
      "time = 64500: 1088\n",
      "time = 65000: 1090\n",
      "time = 65500: 1088\n",
      "time = 66000: 1083\n",
      "time = 66500: 1083\n",
      "time = 67000: 1082\n",
      "time = 67500: 1080\n",
      "time = 68000: 1080\n",
      "time = 68500: 1079\n",
      "time = 69000: 1077\n",
      "time = 69500: 1076\n",
      "time = 70000: 1078\n",
      "time = 70500: 1078\n",
      "time = 71000: 1078\n",
      "time = 71500: 1076\n",
      "time = 72000: 1075\n",
      "time = 72500: 1073\n",
      "time = 73000: 1074\n",
      "time = 73500: 1069\n",
      "time = 74000: 1071\n",
      "time = 74500: 1071\n",
      "time = 75000: 1069\n",
      "time = 75500: 1070\n",
      "time = 76000: 1070\n",
      "time = 76500: 1068\n",
      "time = 77000: 1067\n",
      "time = 77500: 1071\n",
      "time = 78000: 1071\n",
      "time = 78500: 1073\n",
      "time = 79000: 1074\n",
      "time = 79500: 1072\n",
      "time = 80000: 1070\n",
      "time = 80500: 1071\n",
      "time = 81000: 1071\n",
      "time = 81500: 1067\n",
      "time = 82000: 1063\n",
      "time = 82500: 1065\n",
      "time = 83000: 1059\n",
      "time = 83500: 1059\n",
      "time = 84000: 1056\n",
      "time = 84500: 1056\n",
      "time = 85000: 1054\n",
      "time = 85500: 1053\n",
      "time = 86000: 1060\n",
      "time = 86500: 1059\n",
      "time = 87000: 1055\n",
      "time = 87500: 1055\n",
      "time = 88000: 1052\n",
      "time = 88500: 1056\n",
      "time = 89000: 1055\n",
      "time = 89500: 1052\n",
      "time = 90000: 1053\n",
      "time = 90500: 1053\n",
      "time = 91000: 1051\n",
      "time = 91500: 1050\n",
      "time = 92000: 1048\n",
      "time = 92500: 1050\n",
      "time = 93000: 1054\n",
      "time = 93500: 1053\n",
      "time = 94000: 1053\n",
      "time = 94500: 1055\n",
      "time = 95000: 1052\n",
      "time = 95500: 1047\n",
      "time = 96000: 1042\n",
      "time = 96500: 1036\n",
      "time = 97000: 1031\n",
      "time = 97500: 1026\n",
      "time = 98000: 1021\n",
      "time = 98500: 1015\n",
      "time = 99000: 1010\n",
      "time = 99500: 1005\n",
      "time = 100000: 1000\n"
     ]
    }
   ],
   "source": [
    "for i in range(s.size):\n",
    "    print r'time = %d: %d' % (s[i], result[i])"
   ]
  },
  {
   "cell_type": "markdown",
   "metadata": {},
   "source": [
    "Разброс получившихся значений:"
   ]
  },
  {
   "cell_type": "code",
   "execution_count": 9,
   "metadata": {
    "collapsed": false
   },
   "outputs": [
    {
     "data": {
      "text/plain": [
       "93.0"
      ]
     },
     "execution_count": 9,
     "metadata": {},
     "output_type": "execute_result"
    }
   ],
   "source": [
    "round(result.max() - result.min())"
   ]
  }
 ],
 "metadata": {
  "kernelspec": {
   "display_name": "Python 2",
   "language": "python",
   "name": "python2"
  },
  "language_info": {
   "codemirror_mode": {
    "name": "ipython",
    "version": 2
   },
   "file_extension": ".py",
   "mimetype": "text/x-python",
   "name": "python",
   "nbconvert_exporter": "python",
   "pygments_lexer": "ipython2",
   "version": "2.7.11"
  }
 },
 "nbformat": 4,
 "nbformat_minor": 0
}
