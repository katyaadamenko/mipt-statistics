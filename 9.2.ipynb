{
 "cells": [
  {
   "cell_type": "markdown",
   "metadata": {},
   "source": [
    "# Задача 9.2"
   ]
  },
  {
   "cell_type": "code",
   "execution_count": 1,
   "metadata": {
    "collapsed": false
   },
   "outputs": [
    {
     "name": "stdout",
     "output_type": "stream",
     "text": [
      "Populating the interactive namespace from numpy and matplotlib\n"
     ]
    }
   ],
   "source": [
    "import numpy as np\n",
    "import scipy.stats as sps\n",
    "import matplotlib.pyplot as plt\n",
    "%pylab inline"
   ]
  },
  {
   "cell_type": "markdown",
   "metadata": {},
   "source": [
    "$X_i = \\beta_1 + i\\beta_2 + \\varepsilon_0 + ... \\varepsilon_i$, где $\\varepsilon_i$ независимы, $\\varepsilon_i \\sim N(0, \\sigma^2)$ и $\\varepsilon_i = \\varepsilon_i^{t}\\beta_2$, $i = 1,..,n$. Тогда \n",
    "\n",
    "$\\begin{pmatrix}\n",
    "X_0 \\\\\n",
    "X_1 \\\\\n",
    ".. \\\\\n",
    "X_n\n",
    "\\end{pmatrix} =\n",
    "\\begin{pmatrix} \n",
    "\\beta_1 + \\varepsilon_0 \\\\\n",
    "\\beta_1 + \\beta_2 + \\varepsilon_0 + \\varepsilon_1 \\\\\n",
    ".. \\\\\n",
    "\\beta_1 + \\beta_2 + \\varepsilon_0 + ... + \\varepsilon_n\n",
    "\\end{pmatrix}$\n",
    "\n",
    "Вычтем из каждой строчки матрицы предыдущую, введём столбец из $Y_0, ... Y_n$:\n",
    "$\\begin{pmatrix}\n",
    "Y_0 \\\\\n",
    "Y_1 \\\\\n",
    ".. \\\\\n",
    "Y_n\n",
    "\\end{pmatrix} =\n",
    "\\begin{pmatrix}\n",
    "X_0 \\\\\n",
    "X_1 - X_0 \\\\\n",
    ".. \\\\\n",
    "X_n - X_{n - 1}\n",
    "\\end{pmatrix} =\n",
    "\\begin{pmatrix} \n",
    "\\beta_1 + \\varepsilon_0 \\\\\n",
    "\\beta_2 + \\varepsilon_1 \\\\\n",
    ".. \\\\\n",
    "\\beta_2 + \\varepsilon_n\n",
    "\\end{pmatrix} = \n",
    "\\begin{pmatrix} \n",
    "\\beta_1 \\\\\n",
    "\\beta_2 \\\\\n",
    ".. \\\\\n",
    "\\beta_2 \n",
    "\\end{pmatrix} +\n",
    "\\begin{pmatrix} \n",
    "\\varepsilon_0 \\\\\n",
    "\\varepsilon_1\\\\\n",
    ".. \\\\\n",
    "\\varepsilon_n \n",
    "\\end{pmatrix} = \n",
    "\\begin{pmatrix} \n",
    "1 & 0 \\\\\n",
    "0 & 1 \\\\\n",
    "..&.. \\\\\n",
    "0 & 1 \n",
    "\\end{pmatrix} \\cdot\n",
    "\\begin{pmatrix} \n",
    "\\beta_1 \\\\\n",
    "\\beta_2\n",
    "\\end{pmatrix} + \n",
    "\\begin{pmatrix} \n",
    "\\varepsilon_0 \\\\\n",
    "\\varepsilon_1\\\\\n",
    ".. \\\\\n",
    "\\varepsilon_n \n",
    "\\end{pmatrix}$\n",
    "\n",
    "Значит, в построенной гаусовской линейной модели $Z = \\begin{pmatrix} \n",
    "1 & 0 \\\\\n",
    "0 & 1 \\\\\n",
    "..&.. \\\\\n",
    "0 & 1 \n",
    "\\end{pmatrix}$, $Y = \\begin{pmatrix}\n",
    "X_0 \\\\\n",
    "X_1 - X_0 \\\\\n",
    ".. \\\\\n",
    "X_n - X_{n - 1}\n",
    "\\end{pmatrix}$, оценки наименьших квадратов для $\\beta_1, \\beta_2$ - $\\begin{pmatrix} \n",
    "\\widehat{\\beta_1} \\\\\n",
    "\\widehat{\\beta_2}\n",
    "\\end{pmatrix} = (Z^{T}Z)^{-1}Z^{T}Y$\n",
    "\n",
    "Найдем $\\widehat{\\beta_1}, \\widehat{\\beta_2}$:"
   ]
  },
  {
   "cell_type": "code",
   "execution_count": 2,
   "metadata": {
    "collapsed": false
   },
   "outputs": [],
   "source": [
    "file_obj = open('Regression.csv')\n",
    "data = np.array([float(line.strip()) for line in file_obj])"
   ]
  },
  {
   "cell_type": "code",
   "execution_count": 3,
   "metadata": {
    "collapsed": false
   },
   "outputs": [],
   "source": [
    "n = data.size\n",
    "y = np.zeros(n)\n",
    "y[1:] = data[:n - 1]\n",
    "y = data - y\n",
    "z = np.empty((n, 2))\n",
    "z[:, 0] = np.zeros(n)\n",
    "z[:, 1] = np.ones(n)\n",
    "z[0, 0] = 1\n",
    "z[0, 1] = 0\n",
    "y.reshape(y.size, 1)\n",
    "theta_est = np.linalg.inv(z.T.dot(z)).dot(z.T).dot(y)"
   ]
  },
  {
   "cell_type": "code",
   "execution_count": 4,
   "metadata": {
    "collapsed": false
   },
   "outputs": [
    {
     "name": "stdout",
     "output_type": "stream",
     "text": [
      "[ 63.5725       9.96734144]\n"
     ]
    }
   ],
   "source": [
    "print theta_est"
   ]
  },
  {
   "cell_type": "markdown",
   "metadata": {},
   "source": [
    "Hесмещённая оценка для $\\sigma^2$ - $\\frac{{||Y - Z\\widehat{\\theta}||}^2}{n + 1 - k}$, так как здесь $k = 2$, то - $\\frac{{||Y - Z\\widehat{\\theta}||}^2}{n - 1} = \\frac{\\sum_{i=0}^n(Y_i-(Z\\widehat{\\theta})_i)^2}{n - 1}$:"
   ]
  },
  {
   "cell_type": "code",
   "execution_count": 5,
   "metadata": {
    "collapsed": false
   },
   "outputs": [],
   "source": [
    "sigma_2_est = ((y - z.dot(theta_est))**2).sum() / (n - 1)"
   ]
  },
  {
   "cell_type": "code",
   "execution_count": 6,
   "metadata": {
    "collapsed": false,
    "scrolled": true
   },
   "outputs": [
    {
     "name": "stdout",
     "output_type": "stream",
     "text": [
      "4.21857003554\n"
     ]
    }
   ],
   "source": [
    "print sigma_2_est"
   ]
  },
  {
   "cell_type": "markdown",
   "metadata": {},
   "source": [
    "$\\varepsilon = \\varepsilon_i^{t} \\beta_2 \\sim N(0, \\sigma^2)$, значит, $\\varepsilon_i^{t} \\sim N \\left(0, \\frac{\\sigma^2}{\\beta_2^2} \\right)$. Оценка диспресии отсчета времени - $\\frac{\\widehat{\\sigma^2}}{\\widehat{\\beta_2}^2}$:"
   ]
  },
  {
   "cell_type": "code",
   "execution_count": 7,
   "metadata": {
    "collapsed": false
   },
   "outputs": [
    {
     "name": "stdout",
     "output_type": "stream",
     "text": [
      "0.0424626009249\n"
     ]
    }
   ],
   "source": [
    "print sigma_2_est / ((theta_est[1]) ** 2)"
   ]
  },
  {
   "cell_type": "markdown",
   "metadata": {},
   "source": [
    "Заметим, что получившаяся оценка дисперсии отсчета времени мала."
   ]
  }
 ],
 "metadata": {
  "kernelspec": {
   "display_name": "Python 2",
   "language": "python",
   "name": "python2"
  },
  "language_info": {
   "codemirror_mode": {
    "name": "ipython",
    "version": 2
   },
   "file_extension": ".py",
   "mimetype": "text/x-python",
   "name": "python",
   "nbconvert_exporter": "python",
   "pygments_lexer": "ipython2",
   "version": "2.7.11"
  }
 },
 "nbformat": 4,
 "nbformat_minor": 0
}
