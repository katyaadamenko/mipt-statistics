{
 "cells": [
  {
   "cell_type": "markdown",
   "metadata": {},
   "source": [
    "#### ФИВТ МФТИ\n",
    "\n",
    "#### Курс математической статистики\n",
    "\n",
    "Никита Волков (<a href=\"mailto:nikita.v2009@yandex.ru\">email</a>, <a href=\"https://vk.com/id30492177\">VK</a>)\n",
    "\n",
    "# Справочник по Python\n",
    "\n",
    "## Очень коротко базовые понятия Python\n",
    "\n",
    "Подробно можно прочитать в статьях:\n",
    "\n",
    "Python 2: https://habrahabr.ru/post/61905/\n",
    "\n",
    "Python 3: https://ru.wikibooks.org/wiki/Python/%D0%A3%D1%87%D0%B5%D0%B1%D0%BD%D0%B8%D0%BA_Python_3.1\n",
    "\n",
    "<b>Арифметические операции и печать</b>"
   ]
  },
  {
   "cell_type": "code",
   "execution_count": 1,
   "metadata": {
    "collapsed": false
   },
   "outputs": [
    {
     "name": "stdout",
     "output_type": "stream",
     "text": [
      "3 30 10.8 10 8\n"
     ]
    }
   ],
   "source": [
    "print(1 + 2, 5 * 6, 54 / 5, 54 // 5, 2 ** 3)"
   ]
  },
  {
   "cell_type": "code",
   "execution_count": 2,
   "metadata": {
    "collapsed": false
   },
   "outputs": [
    {
     "name": "stdout",
     "output_type": "stream",
     "text": [
      "x = 3, y = 1.5\n"
     ]
    }
   ],
   "source": [
    "x = 1\n",
    "x += 2\n",
    "y = x / 2\n",
    "print('x = {}, y = {}'.format(x, y))"
   ]
  },
  {
   "cell_type": "markdown",
   "metadata": {},
   "source": [
    "<b>Условные операторы</b>"
   ]
  },
  {
   "cell_type": "code",
   "execution_count": 3,
   "metadata": {
    "collapsed": false
   },
   "outputs": [
    {
     "name": "stdout",
     "output_type": "stream",
     "text": [
      "True\n"
     ]
    }
   ],
   "source": [
    "if x > 2 and not 2 <= y < 3:\n",
    "    print(True)\n",
    "else:\n",
    "    print(False)"
   ]
  },
  {
   "cell_type": "markdown",
   "metadata": {},
   "source": [
    "<b>Циклы</b>"
   ]
  },
  {
   "cell_type": "code",
   "execution_count": 4,
   "metadata": {
    "collapsed": false
   },
   "outputs": [
    {
     "name": "stdout",
     "output_type": "stream",
     "text": [
      "x = 10, range(5) = [0, 1, 2, 3, 4]\n"
     ]
    }
   ],
   "source": [
    "x = 0\n",
    "for i in range(5):\n",
    "    x += i\n",
    "    \n",
    "print('x = {}, range(5) = {}'.format(x, list(range(5))))"
   ]
  },
  {
   "cell_type": "markdown",
   "metadata": {},
   "source": [
    "Но тут можно и проще"
   ]
  },
  {
   "cell_type": "code",
   "execution_count": 5,
   "metadata": {
    "collapsed": false
   },
   "outputs": [
    {
     "name": "stdout",
     "output_type": "stream",
     "text": [
      "10\n",
      "10\n"
     ]
    }
   ],
   "source": [
    "print(sum([i for i in range(5)]))\n",
    "print(sum(range(5)))"
   ]
  },
  {
   "cell_type": "code",
   "execution_count": 6,
   "metadata": {
    "collapsed": false
   },
   "outputs": [
    {
     "name": "stdout",
     "output_type": "stream",
     "text": [
      "Сначала теория вероятностей\n",
      "Потом математическая статистика\n",
      "Затем случайные процессы\n"
     ]
    }
   ],
   "source": [
    "order = ['Сначала', 'Потом', 'Затем']\n",
    "courses = ['Теория вероятностей', 'Математическая статистика', 'Случайные процессы']\n",
    "for preposition, course in zip(order, courses):\n",
    "    print(preposition, course.lower())"
   ]
  },
  {
   "cell_type": "markdown",
   "metadata": {},
   "source": [
    "Если у вас русский язык не работает, поставьте u перед строками.\n",
    "Например, `u'текст'`."
   ]
  },
  {
   "cell_type": "code",
   "execution_count": 7,
   "metadata": {
    "collapsed": false
   },
   "outputs": [
    {
     "name": "stdout",
     "output_type": "stream",
     "text": [
      "16\n"
     ]
    }
   ],
   "source": [
    "x = 1\n",
    "while x < 12:\n",
    "    x += x\n",
    "print(x)"
   ]
  },
  {
   "cell_type": "markdown",
   "metadata": {},
   "source": [
    "<b>Листы и туплы</b>"
   ]
  },
  {
   "cell_type": "code",
   "execution_count": 8,
   "metadata": {
    "collapsed": false
   },
   "outputs": [
    {
     "name": "stdout",
     "output_type": "stream",
     "text": [
      "<class 'list'> <class 'tuple'>\n"
     ]
    }
   ],
   "source": [
    "x = [1, 2, 3]  # лист\n",
    "y = (1, 2, 3)  # тупл\n",
    "print(type(x), type(y))"
   ]
  },
  {
   "cell_type": "markdown",
   "metadata": {},
   "source": [
    "Листы изменяемые"
   ]
  },
  {
   "cell_type": "code",
   "execution_count": 9,
   "metadata": {
    "collapsed": false
   },
   "outputs": [
    {
     "name": "stdout",
     "output_type": "stream",
     "text": [
      "[1, 2, 3, 4]\n",
      "[1, 2, 3, 4, 5]\n",
      "[1, 2, 3, 4, 5, 1, 2, 3, 4, 5]\n"
     ]
    }
   ],
   "source": [
    "x.append(4)\n",
    "print(x)\n",
    "x += [5]\n",
    "print(x)\n",
    "x = x * 2\n",
    "print(x)"
   ]
  },
  {
   "cell_type": "code",
   "execution_count": 10,
   "metadata": {
    "collapsed": false
   },
   "outputs": [
    {
     "ename": "AttributeError",
     "evalue": "'tuple' object has no attribute 'append'",
     "output_type": "error",
     "traceback": [
      "\u001b[1;31m---------------------------------------------------------------------------\u001b[0m",
      "\u001b[1;31mAttributeError\u001b[0m                            Traceback (most recent call last)",
      "\u001b[1;32m<ipython-input-10-89acde7fc93a>\u001b[0m in \u001b[0;36m<module>\u001b[1;34m()\u001b[0m\n\u001b[1;32m----> 1\u001b[1;33m \u001b[0my\u001b[0m\u001b[1;33m.\u001b[0m\u001b[0mappend\u001b[0m\u001b[1;33m(\u001b[0m\u001b[1;36m4\u001b[0m\u001b[1;33m)\u001b[0m  \u001b[1;31m# туплы не изменяемые\u001b[0m\u001b[1;33m\u001b[0m\u001b[0m\n\u001b[0m",
      "\u001b[1;31mAttributeError\u001b[0m: 'tuple' object has no attribute 'append'"
     ]
    }
   ],
   "source": [
    "y.append(4)  # туплы не изменяемые"
   ]
  },
  {
   "cell_type": "markdown",
   "metadata": {},
   "source": [
    "Срезы"
   ]
  },
  {
   "cell_type": "code",
   "execution_count": 11,
   "metadata": {
    "collapsed": false
   },
   "outputs": [
    {
     "name": "stdout",
     "output_type": "stream",
     "text": [
      "[3, 4, 5]\n",
      "[0, 1, 2, 3, 4]\n",
      "[5, 6, 7, 8, 9]\n",
      "[1, 3, 5, 7]\n",
      "[0, 2, 4, 6, 8]\n",
      "[0, 1, 2, 3, 4, 5, 6, 7, 8]\n",
      "9\n"
     ]
    }
   ],
   "source": [
    "x = list(range(10))\n",
    "print(x[3:6])\n",
    "print(x[:5])\n",
    "print(x[5:])\n",
    "print(x[1:9:2])  # Через один\n",
    "print(x[::2])\n",
    "print(x[:-1])  # Все, кроме последнего\n",
    "print(x[-1])  # Последний"
   ]
  },
  {
   "cell_type": "markdown",
   "metadata": {},
   "source": [
    "<b>Функции</b>"
   ]
  },
  {
   "cell_type": "code",
   "execution_count": 12,
   "metadata": {
    "collapsed": false
   },
   "outputs": [
    {
     "name": "stdout",
     "output_type": "stream",
     "text": [
      "0.0782\n",
      "0.3989\n"
     ]
    }
   ],
   "source": [
    "from math import sqrt, e, pi\n",
    "\n",
    "def normal_density(x, a, sigma):\n",
    "    return (1 / sqrt(2 * pi * sigma ** 2)) * e ** (-(x - a) ** 2 / (2 * sigma ** 2))\n",
    "\n",
    "standart_normal_density = lambda x: normal_density(x, 0, 1)\n",
    "\n",
    "print('{:.4f}'.format(normal_density(0, 1, 5)))\n",
    "print('{:.4f}'.format(standart_normal_density(0)))"
   ]
  },
  {
   "cell_type": "markdown",
   "metadata": {},
   "source": [
    "<b>Некоторые полезные функции</b>"
   ]
  },
  {
   "cell_type": "code",
   "execution_count": 13,
   "metadata": {
    "collapsed": false
   },
   "outputs": [
    {
     "name": "stdout",
     "output_type": "stream",
     "text": [
      "[(0, 0), (1, 2), (2, 4), (3, 6), (4, 8)]\n",
      "[0, 1, 4, 9, 16]\n",
      "[(9, 'a'), (7, 'a'), (4, 'a'), (5, 'k'), (4, 'n'), (3, 'n'), (3, 'n')]\n"
     ]
    }
   ],
   "source": [
    "# zip --- скрещивает два массива одной длины\n",
    "x = zip(range(5), range(0, 10, 2))\n",
    "print(list(x))\n",
    "\n",
    "# map --- применяет функию к каждому элементу массива\n",
    "x = map(lambda tmp: tmp ** 2, range(5))\n",
    "print(list(x))\n",
    "\n",
    "# sorted --- сортировка\n",
    "x = list(zip([7, 3, 4, 4, 5, 3, 9], ['a', 'n', 'n', 'a', 'k', 'n', 'a']))\n",
    "# сначала сортировка по букве по алфавиту, потом сортировка по убыванию по числу \n",
    "x = sorted(x, key=lambda element: (element[1], -element[0]))\n",
    "print(list(x))"
   ]
  },
  {
   "cell_type": "code",
   "execution_count": 14,
   "metadata": {
    "collapsed": false
   },
   "outputs": [
    {
     "data": {
      "text/plain": [
       "[(9, 'a'), (7, 'a'), (4, 'a'), (5, 'k'), (4, 'n'), (3, 'n'), (3, 'n')]"
      ]
     },
     "execution_count": 14,
     "metadata": {},
     "output_type": "execute_result"
    }
   ],
   "source": [
    "x"
   ]
  },
  {
   "cell_type": "markdown",
   "metadata": {},
   "source": [
    "Сохрание в файл и чтение"
   ]
  },
  {
   "cell_type": "code",
   "execution_count": 15,
   "metadata": {
    "collapsed": false
   },
   "outputs": [
    {
     "name": "stdout",
     "output_type": "stream",
     "text": [
      "9 a\n",
      "['9', 'a']\n",
      "7 a\n",
      "['7', 'a']\n",
      "4 a\n",
      "['4', 'a']\n",
      "5 k\n",
      "['5', 'k']\n",
      "4 n\n",
      "['4', 'n']\n",
      "3 n\n",
      "['3', 'n']\n",
      "3 n\n",
      "['3', 'n']\n"
     ]
    }
   ],
   "source": [
    "# Сохранение\n",
    "with open('example.txt', 'w') as f:\n",
    "    for element in x:\n",
    "        f.write(' '.join([str(element[0]), element[1]]))\n",
    "        f.write('\\n')\n",
    "        \n",
    "# Чтение\n",
    "with open('example.txt') as f:\n",
    "    for line in f:\n",
    "        print(line[:-1])  # лишний перевод строки убираем\n",
    "        print(line[:-1].split(' '))"
   ]
  },
  {
   "cell_type": "markdown",
   "metadata": {},
   "source": [
    "<b>Некоторые полезные типы данных</b>"
   ]
  },
  {
   "cell_type": "markdown",
   "metadata": {},
   "source": [
    "Множество (в нем элементы не упорядочены и не повторяются)"
   ]
  },
  {
   "cell_type": "code",
   "execution_count": 16,
   "metadata": {
    "collapsed": false
   },
   "outputs": [
    {
     "name": "stdout",
     "output_type": "stream",
     "text": [
      "{1, 2, 3, 4}\n",
      "{1, 2, 3, 4, 5}\n",
      "{2, 3, 4, 5}\n",
      "{2, 4}\n",
      "{3, 5}\n",
      "{2, 3, 4, 5, 6, 8}\n",
      "{3, 5, 6, 8}\n",
      "False\n",
      "True\n",
      "False\n",
      "True\n"
     ]
    }
   ],
   "source": [
    "x = set([1, 4, 2, 4, 2, 1, 3, 4])\n",
    "print(x)\n",
    "\n",
    "x.add(5)  # добавление элемента\n",
    "print(x)\n",
    "\n",
    "x.pop()  # удаление элемента\n",
    "print(x)\n",
    "\n",
    "print(x.intersection(set([2, 4, 6, 8])))  # Пересечение\n",
    "print(x.difference(set([2, 4, 6, 8])))  # Разность\n",
    "print(x.union(set([2, 4, 6, 8])))  # Объединение\n",
    "print(x.symmetric_difference(set([2, 4, 6, 8])))  # Симметрическая разность\n",
    "\n",
    "print(x.issubset(set([2, 4, 6, 8])))  # Является ли подмножеством\n",
    "print(x.issubset(set(list(range(10)))))\n",
    "\n",
    "print(x.issuperset(set([2, 4, 6, 8])))  # Является ли надмножеством\n",
    "print(x.issuperset(set([2, 4])))"
   ]
  },
  {
   "cell_type": "markdown",
   "metadata": {},
   "source": [
    "Словари\n",
    "\n",
    "Пример: словарь \"распределение - количество параметров\""
   ]
  },
  {
   "cell_type": "code",
   "execution_count": 17,
   "metadata": {
    "collapsed": false
   },
   "outputs": [
    {
     "name": "stdout",
     "output_type": "stream",
     "text": [
      "True False\n",
      "keys: dict_keys(['Normal', 'Bernoulli', 'Gamma', 'Poisson'])\n",
      "values: dict_values([2, 1, 2, 1])\n",
      "Normal имеет 2 параметра\n",
      "Bernoulli имеет 1 параметр\n",
      "Gamma имеет 2 параметра\n",
      "Poisson имеет 1 параметр\n"
     ]
    }
   ],
   "source": [
    "x = dict()\n",
    "x['Normal'] = 2\n",
    "x['Bernoulli'] = 1\n",
    "x['Poisson'] = 1\n",
    "\n",
    "x['Gamma'] = 1  # если ошиблись,\n",
    "x['Gamma'] = 2  # то можно исправить\n",
    "\n",
    "print('Normal' in x, 'Cauchy' in x)\n",
    "print('keys:', x.keys())\n",
    "print('values:', x.values())\n",
    "\n",
    "for key in x:\n",
    "    print('{} имеет {} параметр{}'.format(key, x[key], 'а' if x[key] == 2 else ''))"
   ]
  },
  {
   "cell_type": "markdown",
   "metadata": {},
   "source": [
    "## Библиотека numpy"
   ]
  },
  {
   "cell_type": "code",
   "execution_count": 18,
   "metadata": {
    "collapsed": true
   },
   "outputs": [],
   "source": [
    "import numpy as np"
   ]
  },
  {
   "cell_type": "markdown",
   "metadata": {},
   "source": [
    "Самое основное — класс <b>`numpy.array`</b>"
   ]
  },
  {
   "cell_type": "code",
   "execution_count": 19,
   "metadata": {
    "collapsed": false
   },
   "outputs": [
    {
     "name": "stdout",
     "output_type": "stream",
     "text": [
      "[1 2 3 4]\n"
     ]
    },
    {
     "data": {
      "text/plain": [
       "array([1, 2, 3, 4])"
      ]
     },
     "execution_count": 19,
     "metadata": {},
     "output_type": "execute_result"
    }
   ],
   "source": [
    "x = [1, 2, 3, 4]\n",
    "x = np.array(x)\n",
    "print(x)\n",
    "x"
   ]
  },
  {
   "cell_type": "markdown",
   "metadata": {},
   "source": [
    "С ним удобно производить арифметические операции"
   ]
  },
  {
   "cell_type": "code",
   "execution_count": 20,
   "metadata": {
    "collapsed": false
   },
   "outputs": [
    {
     "name": "stdout",
     "output_type": "stream",
     "text": [
      "[2 3 4 5]\n",
      "[2 4 6 8]\n",
      "[ 0.5  1.   1.5  2. ]\n",
      "[1 5 8 5]\n",
      "[ 0  6 15  4]\n",
      "[ 1  4  9 16]\n"
     ]
    }
   ],
   "source": [
    "print(x + 1)\n",
    "print(x * 2)\n",
    "print(x / 2)\n",
    "print(x + [0, 3, 5, 1])\n",
    "print(x * [0, 3, 5, 1])\n",
    "print(x ** 2)"
   ]
  },
  {
   "cell_type": "markdown",
   "metadata": {},
   "source": [
    "Есть встроенные функции"
   ]
  },
  {
   "cell_type": "code",
   "execution_count": 21,
   "metadata": {
    "collapsed": false
   },
   "outputs": [
    {
     "name": "stdout",
     "output_type": "stream",
     "text": [
      "10\n",
      "24\n",
      "[ 1.          1.41421356  1.73205081  2.        ]\n",
      "[  2.71828183   7.3890561   20.08553692  54.59815003]\n",
      "[ 0.          0.69314718  1.09861229  1.38629436]\n",
      "[ 0.84147098  0.90929743  0.14112001 -0.7568025 ]\n",
      "2.718281828459045 3.141592653589793\n"
     ]
    }
   ],
   "source": [
    "print(x.sum())  # или np.sum(x) --- сумма всех элементов\n",
    "print(x.prod())  # или np.prod(x) --- произведение всех элементов\n",
    "print(np.sqrt(x))\n",
    "print(np.exp(x))\n",
    "print(np.log(x))\n",
    "print(np.sin(x))\n",
    "print(np.e, np.pi)"
   ]
  },
  {
   "cell_type": "markdown",
   "metadata": {},
   "source": [
    "Такие же срезы"
   ]
  },
  {
   "cell_type": "code",
   "execution_count": 22,
   "metadata": {
    "collapsed": false
   },
   "outputs": [
    {
     "name": "stdout",
     "output_type": "stream",
     "text": [
      "[3 4 5]\n",
      "[0 1 2 3 4]\n",
      "[5 6 7 8 9]\n",
      "[1 3 5 7]\n",
      "[0 2 4 6 8]\n",
      "[0 1 2 3 4 5 6 7 8]\n",
      "9\n"
     ]
    }
   ],
   "source": [
    "x = np.array(range(10))\n",
    "print(x[3:6])\n",
    "print(x[:5])\n",
    "print(x[5:])\n",
    "print(x[1:9:2])  # Через один\n",
    "print(x[::2])\n",
    "print(x[:-1])  # Все, кроме последнего\n",
    "print(x[-1])  # Последний"
   ]
  },
  {
   "cell_type": "markdown",
   "metadata": {},
   "source": [
    "Последовательности"
   ]
  },
  {
   "cell_type": "code",
   "execution_count": 23,
   "metadata": {
    "collapsed": false
   },
   "outputs": [
    {
     "name": "stdout",
     "output_type": "stream",
     "text": [
      "[0, 1, 2, 3, 4, 5, 6] [1, 2, 3, 4, 5, 6] [1, 3, 5]\n",
      "[0 1 2 3 4 5 6] [1 2 3 4 5 6] [1 3 5]\n",
      "[ 0.  1.  2.  3.  4.  5.  6.  7.] [ 1.5  2.5  3.5  4.5  5.5  6.5] [ 1.5  2.8  4.1  5.4  6.7]\n",
      "[ 0.   0.1  0.2  0.3  0.4  0.5  0.6  0.7  0.8  0.9  1. ]\n",
      "[ 1.          1.07177346  1.14869835  1.23114441  1.31950791  1.41421356\n",
      "  1.51571657  1.62450479  1.74110113  1.86606598  2.        ]\n"
     ]
    }
   ],
   "source": [
    "# стандартные range(stop) или range(start, stop[, step]), причем все параметры целочисленные\n",
    "print(list(range(7)), list(range(1, 7)), list(range(1, 7, 2)))\n",
    "\n",
    "# аналог из numpy, причем допускаются нецелые параметры\n",
    "print(np.arange(7), np.arange(1, 7), np.arange(1, 7, 2))\n",
    "print(np.arange(7.5), np.arange(1.5, 7.1), np.arange(1.5, 7.1, 1.3))\n",
    "\n",
    "# а если надо указывать не шаг, а количество, то\n",
    "print(np.linspace(0, 1, 11))  # (begin, end, count)\n",
    "\n",
    "# или можно использовать логарифмическую шкалу\n",
    "print(np.logspace(0, 1, 11, base=2))  # np.logspace(a, b, c, base) = base ** np.linspace(a, b, c)"
   ]
  },
  {
   "cell_type": "markdown",
   "metadata": {},
   "source": [
    "Массив из нулей или из единиц"
   ]
  },
  {
   "cell_type": "code",
   "execution_count": 24,
   "metadata": {
    "collapsed": false
   },
   "outputs": [
    {
     "name": "stdout",
     "output_type": "stream",
     "text": [
      "[ 0.  0.  0.  0.  0.]\n",
      "[ 1.  1.  1.  1.  1.]\n"
     ]
    }
   ],
   "source": [
    "print(np.zeros(5))\n",
    "print(np.ones(5))"
   ]
  },
  {
   "cell_type": "markdown",
   "metadata": {},
   "source": [
    "Типы"
   ]
  },
  {
   "cell_type": "code",
   "execution_count": 25,
   "metadata": {
    "collapsed": false
   },
   "outputs": [
    {
     "name": "stdout",
     "output_type": "stream",
     "text": [
      "[ 0.   0.5  1.   1.5  2.   2.5  3.   3.5  4.   4.5  5. ]\n",
      "float64\n",
      "[0 0 1 1 2 2 3 3 4 4 5]\n",
      "['0.0' '0.5' '1.0' '1.5' '2.0' '2.5' '3.0' '3.5' '4.0' '4.5' '5.0']\n"
     ]
    }
   ],
   "source": [
    "x = np.linspace(0, 5, 11)\n",
    "print(x)\n",
    "print(x.dtype)\n",
    "\n",
    "print(x.astype(int))\n",
    "print(x.astype(str))"
   ]
  },
  {
   "cell_type": "markdown",
   "metadata": {},
   "source": [
    "<b>Двумерные массивы</b>\n",
    "\n",
    "Создание"
   ]
  },
  {
   "cell_type": "code",
   "execution_count": 26,
   "metadata": {
    "collapsed": false
   },
   "outputs": [
    {
     "name": "stdout",
     "output_type": "stream",
     "text": [
      "[[ 0  1  2  3]\n",
      " [ 4  5  6  7]\n",
      " [ 8  9 10 11]]\n",
      "(3, 4)\n",
      "[[ 0  1  2]\n",
      " [ 3  4  5]\n",
      " [ 6  7  8]\n",
      " [ 9 10 11]]\n",
      "(3, 4)\n",
      "[ 0  1  2  3  4  5  6  7  8  9 10 11]\n"
     ]
    }
   ],
   "source": [
    "X = np.arange(12).reshape(3, 4)  # Создаем массив размера 12 и меняем размерность\n",
    "print(X)\n",
    "print(X.shape)\n",
    "\n",
    "print(X.reshape(4, 3))  # Можно снова изменить размер\n",
    "print(X.shape)\n",
    "print(X.ravel())  # Или растянуть его в одномерный массив"
   ]
  },
  {
   "cell_type": "markdown",
   "metadata": {},
   "source": [
    "Суммы, максимум, минимум"
   ]
  },
  {
   "cell_type": "code",
   "execution_count": 27,
   "metadata": {
    "collapsed": false
   },
   "outputs": [
    {
     "name": "stdout",
     "output_type": "stream",
     "text": [
      "66 0 11 0\n",
      "[12 15 18 21] [  0  45 120 231] [ 8  9 10 11] [0 1 2 3]\n",
      "[ 6 22 38] [   0  840 7920] [ 3  7 11] [0 4 8]\n"
     ]
    }
   ],
   "source": [
    "print(X.sum(), X.prod(), X.max(), X.min())  # По всему массиву\n",
    "print(X.sum(axis=0), X.prod(axis=0), X.max(axis=0), X.min(axis=0))  # По столбцам\n",
    "print(X.sum(axis=1), X.prod(axis=1), X.max(axis=1), X.min(axis=1))  # По строкам"
   ]
  },
  {
   "cell_type": "markdown",
   "metadata": {},
   "source": [
    "Арифметические операции (все операции поэлементные)"
   ]
  },
  {
   "cell_type": "code",
   "execution_count": 28,
   "metadata": {
    "collapsed": false
   },
   "outputs": [
    {
     "name": "stdout",
     "output_type": "stream",
     "text": [
      "[[ 0  1  2  3]\n",
      " [ 4  5  6  7]\n",
      " [ 8  9 10 11]]\n",
      "[[ 1  2  3  4]\n",
      " [ 5  6  7  8]\n",
      " [ 9 10 11 12]]\n",
      "[[ 0  2  4  6]\n",
      " [ 8 10 12 14]\n",
      " [16 18 20 22]]\n",
      "[[ 0  1  3  4]\n",
      " [ 4  5  7  8]\n",
      " [ 8  9 11 12]]\n",
      "[[ 0  1  2  3]\n",
      " [ 4  5  6  7]\n",
      " [10 11 12 13]]\n",
      "[[ 0  2  4  6]\n",
      " [ 8 10 12 14]\n",
      " [16 18 20 22]]\n",
      "[[  0   1   4   9]\n",
      " [ 16  25  36  49]\n",
      " [ 64  81 100 121]]\n"
     ]
    }
   ],
   "source": [
    "print(X)\n",
    "print(X + 1)\n",
    "print(X * 2)\n",
    "print(X + [0, 0, 1, 1])  # второе слагаемое дополняется до матрицы копированием строк\n",
    "print(X + np.array([[0, 0, 2]]).T)  # .T - транспонирование\n",
    "print(X + X)\n",
    "print(X * X)  # только одного размера"
   ]
  },
  {
   "cell_type": "markdown",
   "metadata": {},
   "source": [
    "А вот так уже не получится"
   ]
  },
  {
   "cell_type": "code",
   "execution_count": 29,
   "metadata": {
    "collapsed": false
   },
   "outputs": [
    {
     "ename": "ValueError",
     "evalue": "operands could not be broadcast together with shapes (4,3) (3,4) ",
     "output_type": "error",
     "traceback": [
      "\u001b[1;31m---------------------------------------------------------------------------\u001b[0m",
      "\u001b[1;31mValueError\u001b[0m                                Traceback (most recent call last)",
      "\u001b[1;32m<ipython-input-29-c24ebaa1cfa3>\u001b[0m in \u001b[0;36m<module>\u001b[1;34m()\u001b[0m\n\u001b[1;32m----> 1\u001b[1;33m \u001b[0mprint\u001b[0m\u001b[1;33m(\u001b[0m\u001b[0mX\u001b[0m\u001b[1;33m.\u001b[0m\u001b[0mT\u001b[0m \u001b[1;33m*\u001b[0m \u001b[0mX\u001b[0m\u001b[1;33m)\u001b[0m  \u001b[1;31m# размеры не совпадают\u001b[0m\u001b[1;33m\u001b[0m\u001b[0m\n\u001b[0m",
      "\u001b[1;31mValueError\u001b[0m: operands could not be broadcast together with shapes (4,3) (3,4) "
     ]
    }
   ],
   "source": [
    "print(X.T * X)  # размеры не совпадают"
   ]
  },
  {
   "cell_type": "markdown",
   "metadata": {},
   "source": [
    "Для этого есть класс <b>`numpy.matrix`</b>, в котором операция умножения определена как матричное умножение"
   ]
  },
  {
   "cell_type": "code",
   "execution_count": 30,
   "metadata": {
    "collapsed": false
   },
   "outputs": [
    {
     "name": "stdout",
     "output_type": "stream",
     "text": [
      "[[ 80  92 104 116]\n",
      " [ 92 107 122 137]\n",
      " [104 122 140 158]\n",
      " [116 137 158 179]]\n"
     ]
    }
   ],
   "source": [
    "X = np.matrix(X)  # Преобразование типов\n",
    "print(X.T * X)"
   ]
  },
  {
   "cell_type": "markdown",
   "metadata": {},
   "source": [
    "Зато тут уже поэлементно не получится"
   ]
  },
  {
   "cell_type": "code",
   "execution_count": 31,
   "metadata": {
    "collapsed": false
   },
   "outputs": [
    {
     "ename": "ValueError",
     "evalue": "shapes (3,4) and (3,4) not aligned: 4 (dim 1) != 3 (dim 0)",
     "output_type": "error",
     "traceback": [
      "\u001b[1;31m---------------------------------------------------------------------------\u001b[0m",
      "\u001b[1;31mValueError\u001b[0m                                Traceback (most recent call last)",
      "\u001b[1;32m<ipython-input-31-eaca4c4d9d7d>\u001b[0m in \u001b[0;36m<module>\u001b[1;34m()\u001b[0m\n\u001b[1;32m----> 1\u001b[1;33m \u001b[0mprint\u001b[0m\u001b[1;33m(\u001b[0m\u001b[0mX\u001b[0m \u001b[1;33m*\u001b[0m \u001b[0mX\u001b[0m\u001b[1;33m)\u001b[0m\u001b[1;33m\u001b[0m\u001b[0m\n\u001b[0m",
      "\u001b[1;32m/usr/local/lib/python3.4/dist-packages/numpy/matrixlib/defmatrix.py\u001b[0m in \u001b[0;36m__mul__\u001b[1;34m(self, other)\u001b[0m\n\u001b[0;32m    341\u001b[0m         \u001b[1;32mif\u001b[0m \u001b[0misinstance\u001b[0m\u001b[1;33m(\u001b[0m\u001b[0mother\u001b[0m\u001b[1;33m,\u001b[0m \u001b[1;33m(\u001b[0m\u001b[0mN\u001b[0m\u001b[1;33m.\u001b[0m\u001b[0mndarray\u001b[0m\u001b[1;33m,\u001b[0m \u001b[0mlist\u001b[0m\u001b[1;33m,\u001b[0m \u001b[0mtuple\u001b[0m\u001b[1;33m)\u001b[0m\u001b[1;33m)\u001b[0m \u001b[1;33m:\u001b[0m\u001b[1;33m\u001b[0m\u001b[0m\n\u001b[0;32m    342\u001b[0m             \u001b[1;31m# This promotes 1-D vectors to row vectors\u001b[0m\u001b[1;33m\u001b[0m\u001b[1;33m\u001b[0m\u001b[0m\n\u001b[1;32m--> 343\u001b[1;33m             \u001b[1;32mreturn\u001b[0m \u001b[0mN\u001b[0m\u001b[1;33m.\u001b[0m\u001b[0mdot\u001b[0m\u001b[1;33m(\u001b[0m\u001b[0mself\u001b[0m\u001b[1;33m,\u001b[0m \u001b[0masmatrix\u001b[0m\u001b[1;33m(\u001b[0m\u001b[0mother\u001b[0m\u001b[1;33m)\u001b[0m\u001b[1;33m)\u001b[0m\u001b[1;33m\u001b[0m\u001b[0m\n\u001b[0m\u001b[0;32m    344\u001b[0m         \u001b[1;32mif\u001b[0m \u001b[0misscalar\u001b[0m\u001b[1;33m(\u001b[0m\u001b[0mother\u001b[0m\u001b[1;33m)\u001b[0m \u001b[1;32mor\u001b[0m \u001b[1;32mnot\u001b[0m \u001b[0mhasattr\u001b[0m\u001b[1;33m(\u001b[0m\u001b[0mother\u001b[0m\u001b[1;33m,\u001b[0m \u001b[1;34m'__rmul__'\u001b[0m\u001b[1;33m)\u001b[0m \u001b[1;33m:\u001b[0m\u001b[1;33m\u001b[0m\u001b[0m\n\u001b[0;32m    345\u001b[0m             \u001b[1;32mreturn\u001b[0m \u001b[0mN\u001b[0m\u001b[1;33m.\u001b[0m\u001b[0mdot\u001b[0m\u001b[1;33m(\u001b[0m\u001b[0mself\u001b[0m\u001b[1;33m,\u001b[0m \u001b[0mother\u001b[0m\u001b[1;33m)\u001b[0m\u001b[1;33m\u001b[0m\u001b[0m\n",
      "\u001b[1;31mValueError\u001b[0m: shapes (3,4) and (3,4) not aligned: 4 (dim 1) != 3 (dim 0)"
     ]
    }
   ],
   "source": [
    "print(X * X)"
   ]
  },
  {
   "cell_type": "markdown",
   "metadata": {},
   "source": [
    "<b>Многомерные массивы</b>"
   ]
  },
  {
   "cell_type": "code",
   "execution_count": 32,
   "metadata": {
    "collapsed": false
   },
   "outputs": [
    {
     "name": "stdout",
     "output_type": "stream",
     "text": [
      "[[[ 0  1  2  3]\n",
      "  [ 4  5  6  7]\n",
      "  [ 8  9 10 11]]\n",
      "\n",
      " [[12 13 14 15]\n",
      "  [16 17 18 19]\n",
      "  [20 21 22 23]]]\n"
     ]
    }
   ],
   "source": [
    "X = np.arange(24).reshape(2, 3, 4)\n",
    "print(X)"
   ]
  },
  {
   "cell_type": "markdown",
   "metadata": {},
   "source": [
    "Суммирование (аналогично остальные)"
   ]
  },
  {
   "cell_type": "code",
   "execution_count": 33,
   "metadata": {
    "collapsed": false
   },
   "outputs": [
    {
     "name": "stdout",
     "output_type": "stream",
     "text": [
      "[[12 14 16 18]\n",
      " [20 22 24 26]\n",
      " [28 30 32 34]]\n",
      "[ 66 210]\n"
     ]
    }
   ],
   "source": [
    "# суммируем только по нулевой оси, то есть для фиксированных j и k суммируем только элементы с индексами (*, j, k)\n",
    "print(X.sum(axis=0))\n",
    "# суммируем сразу по двум осям, то есть для фиксированной i суммируем только элементы с индексами (i, *, *)\n",
    "print(X.sum(axis=(1, 2)))"
   ]
  },
  {
   "cell_type": "markdown",
   "metadata": {},
   "source": [
    "<b>Сортировка</b>"
   ]
  },
  {
   "cell_type": "code",
   "execution_count": 34,
   "metadata": {
    "collapsed": false
   },
   "outputs": [
    {
     "name": "stdout",
     "output_type": "stream",
     "text": [
      "[ 1  2  3  3  3  4  5  6  6  7  8 10]\n",
      "[[ 2  6  3  7]\n",
      " [ 1  4  3  8]\n",
      " [10  5  6  3]]\n",
      "[[ 2  3  6  7]\n",
      " [ 1  3  4  8]\n",
      " [ 3  5  6 10]]\n"
     ]
    }
   ],
   "source": [
    "X = np.array([2, 6, 3, 7, 1, 4, 3, 8, 10, 5, 6, 3])\n",
    "print(np.sort(X, kind='mergesort'))\n",
    "\n",
    "X = X.reshape(3, 4)\n",
    "print(X)\n",
    "X = np.sort(X, axis=1, kind='quicksort')  # сортировка тут только по одной координате. По нескольким нельзя\n",
    "print(X)"
   ]
  },
  {
   "cell_type": "markdown",
   "metadata": {},
   "source": [
    "<b>Сохранение в файл и чтение из файла</b>"
   ]
  },
  {
   "cell_type": "code",
   "execution_count": 35,
   "metadata": {
    "collapsed": false
   },
   "outputs": [],
   "source": [
    "x = np.arange(0, 25, 0.5).reshape((5, 10))\n",
    "\n",
    "# Сохраняем в файл example.txt данные x в формате с двумя точками после запятой и разделителем ';'\n",
    "np.savetxt('example.txt', x, fmt='%.2f', delimiter=';')"
   ]
  },
  {
   "cell_type": "markdown",
   "metadata": {},
   "source": [
    "Получится такой файл"
   ]
  },
  {
   "cell_type": "code",
   "execution_count": 36,
   "metadata": {
    "collapsed": false
   },
   "outputs": [
    {
     "name": "stdout",
     "output_type": "stream",
     "text": [
      "0.00;0.50;1.00;1.50;2.00;2.50;3.00;3.50;4.00;4.50\n",
      "5.00;5.50;6.00;6.50;7.00;7.50;8.00;8.50;9.00;9.50\n",
      "10.00;10.50;11.00;11.50;12.00;12.50;13.00;13.50;14.00;14.50\n",
      "15.00;15.50;16.00;16.50;17.00;17.50;18.00;18.50;19.00;19.50\n",
      "20.00;20.50;21.00;21.50;22.00;22.50;23.00;23.50;24.00;24.50\n"
     ]
    }
   ],
   "source": [
    "with open('example.txt') as f:\n",
    "    print(''.join(f.readlines())[:-1])"
   ]
  },
  {
   "cell_type": "markdown",
   "metadata": {},
   "source": [
    "Теперь его можно прочитать"
   ]
  },
  {
   "cell_type": "code",
   "execution_count": 37,
   "metadata": {
    "collapsed": false
   },
   "outputs": [
    {
     "name": "stdout",
     "output_type": "stream",
     "text": [
      "[[  0.    0.5   1.    1.5   2.    2.5   3.    3.5   4.    4.5]\n",
      " [  5.    5.5   6.    6.5   7.    7.5   8.    8.5   9.    9.5]\n",
      " [ 10.   10.5  11.   11.5  12.   12.5  13.   13.5  14.   14.5]\n",
      " [ 15.   15.5  16.   16.5  17.   17.5  18.   18.5  19.   19.5]\n",
      " [ 20.   20.5  21.   21.5  22.   22.5  23.   23.5  24.   24.5]]\n"
     ]
    }
   ],
   "source": [
    "x = np.loadtxt('example.txt', delimiter=';')\n",
    "print(x)"
   ]
  },
  {
   "cell_type": "markdown",
   "metadata": {},
   "source": [
    "## Библиотека scipy (модуль scipy.stats)\n",
    "\n",
    "Нам пригодится только модуль `scipy.stats`.\n",
    "Полное описание http://docs.scipy.org/doc/scipy/reference/stats.html"
   ]
  },
  {
   "cell_type": "code",
   "execution_count": 38,
   "metadata": {
    "collapsed": true
   },
   "outputs": [],
   "source": [
    "import scipy.stats as sps"
   ]
  },
  {
   "cell_type": "markdown",
   "metadata": {},
   "source": [
    "<b>Общий принцип:</b>\n",
    "\n",
    "$X$ — некоторое распределение с параметрами `params`\n",
    "<ul>\n",
    "    <li>$X$.`rvs(size=`$N$, `params)` — генерация выборки размера $N$ (<b>R</b>andom <b>V</b>ariate<b>S</b>). Возвращает `numpy.array`</li>\n",
    "    <li>$X$.`cdf(`$x$, `params)` — значение функции распределения в точке $x$ (<b>C</b>umulative <b>D</b>istribution <b>F</b>unction)</li>\n",
    "    <li>$X$.`logcdf(`$x$, `params)` — значение логарифма функции распределения в точке $x$</li>\n",
    "    <li>$X$.`ppf(`$q$, `params)` — $q$-квантиль (<b>P</b>ercent <b>P</b>oint <b>F</b>unction)</li>\n",
    "    <li>$X$.`mean(params)` — математическое ожидание</li>\n",
    "    <li>$X$.`median(params)` — медиана</li>\n",
    "    <li>$X$.`var(params)` — дисперсия (<b>Var</b>iance)</li>\n",
    "    <li>$X$.`std(params)` — стандартное отклонение = корень из дисперсии (<b>St</b>andard <b>D</b>eviation)</li>\n",
    "</ul>\n",
    "\n",
    "Кроме того для непрерывных распределений определены функции\n",
    "<ul>\n",
    "    <li>$X$.`pdf(`$x$, `params)` — значение плотности в точке $x$ (<b>P</b>robability <b>D</b>ensity <b>F</b>unction)</li>\n",
    "    <li>$X$.`logpdf(`$x$, `params)` — значение логарифма плотности в точке $x$</li>\n",
    "</ul>\n",
    "\n",
    "А для дискретных\n",
    "<ul>\n",
    "    <li>$X$.`pmf(`$k$, `params)` — значение дискретной плотности в точке $k$ (<b>P</b>robability <b>M</b>ass <b>F</b>unction)</li>\n",
    "    <li>$X$.`logpdf(`$k$, `params)` — значение логарифма дискретной плотности в точке $k$</li>\n",
    "</ul>\n",
    "\n",
    "Параметры могут быть следующими:\n",
    "<ul>\n",
    "    <li>`loc` — параметр сдвига</li>\n",
    "    <li>`scale` — параметр масштаба</li>\n",
    "    <li>и другие параметры (например, $n$ и $p$ для биномиального)</li>\n",
    "</ul>"
   ]
  },
  {
   "cell_type": "markdown",
   "metadata": {},
   "source": [
    "Для примера сгенерируем выборку размера $N = 200$ из распределения $\\mathscr{N}(1, 9)$ и посчитаем некоторые статистики.\n",
    "В терминах выше описанных функций у нас $X$ = `sps.norm`, а `params` = (`loc=1, scale=3`)."
   ]
  },
  {
   "cell_type": "code",
   "execution_count": 39,
   "metadata": {
    "collapsed": false,
    "scrolled": false
   },
   "outputs": [
    {
     "name": "stdout",
     "output_type": "stream",
     "text": [
      "Первые 10 значений выборки:\n",
      " [-2.06235463  1.59369232 -0.68126487  2.98438357 -1.24908635  2.03774639\n",
      "  0.27700922 -0.89751906  3.70360346  3.74723375]\n",
      "Выборочное среденее: 0.777590388762\n",
      "Выборочная дисперсия: 8.90997270912\n"
     ]
    }
   ],
   "source": [
    "sample = sps.norm.rvs(size=200, loc=1, scale=3)\n",
    "print('Первые 10 значений выборки:\\n', sample[:10])\n",
    "print('Выборочное среденее:', sample.mean())\n",
    "print('Выборочная дисперсия:', sample.var())"
   ]
  },
  {
   "cell_type": "code",
   "execution_count": 40,
   "metadata": {
    "collapsed": false
   },
   "outputs": [
    {
     "name": "stdout",
     "output_type": "stream",
     "text": [
      "Плотность:\t\t [ 0.10648267  0.12579441  0.13298076  0.12579441  0.10648267]\n",
      "Функция распределения:\t [ 0.25249254  0.36944134  0.5         0.63055866  0.74750746]\n"
     ]
    }
   ],
   "source": [
    "print('Плотность:\\t\\t', sps.norm.pdf([-1, 0, 1, 2, 3], loc=1, scale=3))\n",
    "print('Функция распределения:\\t', sps.norm.cdf([-1, 0, 1, 2, 3], loc=1, scale=3))"
   ]
  },
  {
   "cell_type": "code",
   "execution_count": 41,
   "metadata": {
    "collapsed": false
   },
   "outputs": [
    {
     "name": "stdout",
     "output_type": "stream",
     "text": [
      "Квантили: [-3.93456088 -2.8446547   1.          4.8446547   5.93456088]\n"
     ]
    }
   ],
   "source": [
    "print('Квантили:', sps.norm.ppf([0.05, 0.1, 0.5, 0.9, 0.95], loc=1, scale=3))"
   ]
  },
  {
   "cell_type": "markdown",
   "metadata": {},
   "source": [
    "Cгенерируем выборку размера $N = 200$ из распределения $Bin(10, 0.6)$ и посчитаем некоторые статистики.\n",
    "В терминах выше описанных функций у нас $X$ = `sps.binom`, а `params` = (`n=10, p=0.6`)."
   ]
  },
  {
   "cell_type": "code",
   "execution_count": 42,
   "metadata": {
    "collapsed": false
   },
   "outputs": [
    {
     "name": "stdout",
     "output_type": "stream",
     "text": [
      "Первые 10 значений выборки:\n",
      " [6 8 7 7 6 7 8 7 5 7]\n",
      "Выборочное среденее: 6.135\n",
      "Выборочная дисперсия: 2.466775\n"
     ]
    }
   ],
   "source": [
    "sample = sps.binom.rvs(size=200, n=10, p=0.6)\n",
    "print('Первые 10 значений выборки:\\n', sample[:10])\n",
    "print('Выборочное среденее:', sample.mean())\n",
    "print('Выборочная дисперсия:', sample.var())"
   ]
  },
  {
   "cell_type": "code",
   "execution_count": 43,
   "metadata": {
    "collapsed": false
   },
   "outputs": [
    {
     "name": "stdout",
     "output_type": "stream",
     "text": [
      "Дискретная плотность:\t [  0.00000000e+00   1.04857600e-04   2.00658125e-01   0.00000000e+00\n",
      "   6.04661760e-03]\n",
      "Функция распределения:\t [  0.00000000e+00   1.04857600e-04   3.66896742e-01   3.66896742e-01\n",
      "   1.00000000e+00]\n"
     ]
    }
   ],
   "source": [
    "print('Дискретная плотность:\\t', sps.binom.pmf([-1, 0, 5, 5.5, 10], n=10, p=0.6))\n",
    "print('Функция распределения:\\t', sps.binom.cdf([-1, 0, 5, 5.5, 10], n=10, p=0.6))"
   ]
  },
  {
   "cell_type": "code",
   "execution_count": 44,
   "metadata": {
    "collapsed": false
   },
   "outputs": [
    {
     "name": "stdout",
     "output_type": "stream",
     "text": [
      "Квантили: [ 3.  4.  6.  8.  8.]\n"
     ]
    }
   ],
   "source": [
    "print('Квантили:', sps.binom.ppf([0.05, 0.1, 0.5, 0.9, 0.95], n=10, p=0.6))"
   ]
  },
  {
   "cell_type": "markdown",
   "metadata": {},
   "source": [
    "Отдельно есть класс для <b>многомерного нормального распределения</b>.\n",
    "Для примера сгенерируем выборку размера $N=200$ из распределения $\\mathscr{N} \\left( \\begin{pmatrix} 1 \\\\ 1 \\end{pmatrix},  \\begin{pmatrix} 2 & 1 \\\\ 1 & 2 \\end{pmatrix} \\right)$."
   ]
  },
  {
   "cell_type": "code",
   "execution_count": 45,
   "metadata": {
    "collapsed": false
   },
   "outputs": [
    {
     "name": "stdout",
     "output_type": "stream",
     "text": [
      "Первые 10 значений выборки:\n",
      " [[-0.27215325 -1.38637727]\n",
      " [-0.31050738  1.19181083]\n",
      " [ 1.89454062  1.05519067]\n",
      " [ 0.7639327   2.23128074]\n",
      " [-1.31920707 -0.31138659]\n",
      " [-0.13399183 -0.80243711]\n",
      " [-0.23527991  2.35924247]\n",
      " [ 0.58234234  0.95402281]\n",
      " [ 3.24374171  3.34295157]\n",
      " [ 0.67813213  2.21140736]]\n",
      "Выборочное среденее: [ 0.87504233  1.05920753]\n",
      "Выборочная матрица ковариаций:\n",
      " [[ 1.71268537  0.85696209]\n",
      " [ 0.85696209  1.89059004]]\n"
     ]
    }
   ],
   "source": [
    "sample = sps.multivariate_normal.rvs(mean=[1, 1], cov=[[2, 1], [1, 2]], size=200)\n",
    "print('Первые 10 значений выборки:\\n', sample[:10])\n",
    "print('Выборочное среденее:', sample.mean(axis=0))\n",
    "print('Выборочная матрица ковариаций:\\n', np.cov(sample.T))"
   ]
  },
  {
   "cell_type": "markdown",
   "metadata": {},
   "source": [
    "Некоторая хитрость :)"
   ]
  },
  {
   "cell_type": "code",
   "execution_count": 46,
   "metadata": {
    "collapsed": false
   },
   "outputs": [
    {
     "name": "stdout",
     "output_type": "stream",
     "text": [
      "[ 0.05653714  0.98363644  2.11329714  2.95404412  4.21877038  5.03033628\n",
      "  6.12153382  7.02678976  8.06310136  9.10200457]\n"
     ]
    }
   ],
   "source": [
    "sample = sps.norm.rvs(size=10, loc=np.arange(10), scale=0.1)\n",
    "print(sample)"
   ]
  },
  {
   "cell_type": "markdown",
   "metadata": {},
   "source": [
    "Бывает так, что <b>надо сгенерировать выборку из распределения, которого нет в `scipy.stats`</b>.\n",
    "Для этого надо создать класс, который будет наследоваться от класса `rv_continuous` для непрерывных случайных величин и от класса `rv_discrete` для дискретных случайных величин.\n",
    "Пример есть на странице http://docs.scipy.org/doc/scipy/reference/generated/scipy.stats.rv_continuous.html#scipy.stats.rv_continuous"
   ]
  },
  {
   "cell_type": "markdown",
   "metadata": {},
   "source": [
    "Для примера сгенерируем выборку из распределения с плотностью $f(x) = \\frac{4}{15} x^3 I\\{x \\in [1, 2] = [a, b]\\}$."
   ]
  },
  {
   "cell_type": "code",
   "execution_count": 47,
   "metadata": {
    "collapsed": false
   },
   "outputs": [
    {
     "name": "stdout",
     "output_type": "stream",
     "text": [
      "Первые 10 значений выборки:\n",
      " [ 1.7614412   1.77230539  1.98901154  1.84270094  1.29474504  1.77433049\n",
      "  1.6724117   1.86960696  1.50343537  1.26115348]\n",
      "Выборочное среденее: 1.658129845\n",
      "Выборочная дисперсия: 0.0640721845104\n"
     ]
    }
   ],
   "source": [
    "class cubic_gen(sps.rv_continuous):\n",
    "    def _pdf(self, x):\n",
    "        return 4 * x ** 3 / 15\n",
    "cubic = cubic_gen(a=1, b=2, name='cubic')\n",
    "\n",
    "sample = cubic.rvs(size=200)\n",
    "print('Первые 10 значений выборки:\\n', sample[:10])\n",
    "print('Выборочное среденее:', sample.mean())\n",
    "print('Выборочная дисперсия:', sample.var())"
   ]
  },
  {
   "cell_type": "markdown",
   "metadata": {},
   "source": [
    "Если дискретная случайная величина может принимать небольшое число значений, то можно не создавать новый класс, как показано выше, а явно указать эти значения и из вероятности."
   ]
  },
  {
   "cell_type": "code",
   "execution_count": 48,
   "metadata": {
    "collapsed": false
   },
   "outputs": [
    {
     "name": "stdout",
     "output_type": "stream",
     "text": [
      "Первые 10 значений выборки:\n",
      " [1 1 3 1 3 1 1 1 1 1]\n",
      "Выборочное среденее: 1.865\n",
      "Частота значений по выборке: 0.53 0.075 0.395\n"
     ]
    }
   ],
   "source": [
    "some_distribution = sps.rv_discrete(name='some_distribution', values=([1, 2, 3], [0.6, 0.1, 0.3]))\n",
    "\n",
    "sample = some_distribution.rvs(size=200)\n",
    "print('Первые 10 значений выборки:\\n', sample[:10])\n",
    "print('Выборочное среденее:', sample.mean())\n",
    "print('Частота значений по выборке:', (sample == 1).mean(), (sample == 2).mean(), (sample == 3).mean())"
   ]
  },
  {
   "cell_type": "markdown",
   "metadata": {},
   "source": [
    "## Библиотека matplotlib\n",
    "\n",
    "http://matplotlib.org/gallery.html (англ.) — тысячи примеров"
   ]
  },
  {
   "cell_type": "code",
   "execution_count": 49,
   "metadata": {
    "collapsed": true
   },
   "outputs": [],
   "source": [
    "import matplotlib.pyplot as plt"
   ]
  },
  {
   "cell_type": "markdown",
   "metadata": {},
   "source": [
    "Для того, чтобы графики рисовались прямо в ноутбуке, нужно выполнить команду"
   ]
  },
  {
   "cell_type": "code",
   "execution_count": 51,
   "metadata": {
    "collapsed": false
   },
   "outputs": [
    {
     "name": "stdout",
     "output_type": "stream",
     "text": [
      "Populating the interactive namespace from numpy and matplotlib\n"
     ]
    }
   ],
   "source": [
    "%pylab inline"
   ]
  },
  {
   "cell_type": "markdown",
   "metadata": {},
   "source": [
    "Сгенерируем выборку из стандартного нормального распределения.\n",
    "Нанесем на график точки выборки."
   ]
  },
  {
   "cell_type": "code",
   "execution_count": 53,
   "metadata": {
    "collapsed": false
   },
   "outputs": [
    {
     "data": {
      "image/png": "[encoded data removed]",
      "text/plain": [
       "<matplotlib.figure.Figure at 0x7fb031c32048>"
      ]
     },
     "metadata": {},
     "output_type": "display_data"
    }
   ],
   "source": [
    "sample = sps.norm.rvs(size=200)\n",
    "\n",
    "plt.figure(figsize=(10, 1))  # размер графика\n",
    "plt.scatter(sample, np.zeros(200), alpha=0.2)  # alpha - прозрачность точки\n",
    "plt.show()"
   ]
  },
  {
   "cell_type": "markdown",
   "metadata": {},
   "source": [
    "Можно добавить график плотности"
   ]
  },
  {
   "cell_type": "code",
   "execution_count": 54,
   "metadata": {
    "collapsed": false
   },
   "outputs": [
    {
     "data": {
      "image/png": "[encoded data removed]",
      "text/plain": [
       "<matplotlib.figure.Figure at 0x7fb031b670f0>"
      ]
     },
     "metadata": {},
     "output_type": "display_data"
    }
   ],
   "source": [
    "grid = np.linspace(-3, 3, 100)  # задаем сетку для построения графика плотности\n",
    "\n",
    "plt.figure(figsize=(10, 4))\n",
    "plt.scatter(sample, np.zeros(200) - 0.02, alpha=0.2, label='sample')  # label - описание в легенде\n",
    "plt.plot(grid, sps.norm.pdf(grid), color='red', label='density')  # color - цвет графика\n",
    "plt.legend()  # добавляет легенду\n",
    "plt.show()"
   ]
  },
  {
   "cell_type": "markdown",
   "metadata": {},
   "source": [
    "Предположим, что выборка приходит постепенно.\n",
    "Для каждого момента времени посчитаем выборочное среднее и доверительный интервал.\n",
    "Нанесем их на график."
   ]
  },
  {
   "cell_type": "code",
   "execution_count": 55,
   "metadata": {
    "collapsed": false
   },
   "outputs": [
    {
     "data": {
      "image/png": "[encoded data removed]",
      "text/plain": [
       "<matplotlib.figure.Figure at 0x7fb031aeab38>"
      ]
     },
     "metadata": {},
     "output_type": "display_data"
    }
   ],
   "source": [
    "time = np.arange(1, 201)\n",
    "means = sample.cumsum() / np.arange(1, 201)\n",
    "\n",
    "plt.figure(figsize=(15, 8))\n",
    "plt.scatter(time, sample, alpha=0.2, s=40, label='sample')  # s - размер точек\n",
    "plt.plot(time, means, color='red', linewidth=2.5, label='sample mean $\\overline{X}$')  # linewidth - толщина линии\n",
    "# заполняет пространство между двумя функциями\n",
    "plt.fill_between(time, means + 2 / np.sqrt(time), means - 2 / np.sqrt(time), alpha=0.1)\n",
    "plt.legend()\n",
    "plt.xlim((1, 200))  # размеры графика по горизонтальной оси (ставим None, если по стороне ограничений нет)\n",
    "plt.ylim((-3, 3))  # размеры графика по вертикальной оси \n",
    "plt.xlabel('Time')  # название горизонтальной оси (аналогично plt.ylabel)\n",
    "plt.title('Sample by time')  # имя графика\n",
    "plt.grid()  # добавляем сетку\n",
    "plt.savefig('example.png')  # сохранение в файл\n",
    "plt.show()"
   ]
  },
  {
   "cell_type": "markdown",
   "metadata": {},
   "source": [
    "Посмотрим еще на то, как можно закрашивать график в соответствии с какой-то функцией.\n",
    "Для примера возьмем плотность распределения $\\mathscr{N} \\left( \\begin{pmatrix} 0 \\\\ 0 \\end{pmatrix},  \\begin{pmatrix} 2 & 1 \\\\ 1 & 2 \\end{pmatrix} \\right)$."
   ]
  },
  {
   "cell_type": "code",
   "execution_count": 56,
   "metadata": {
    "collapsed": false
   },
   "outputs": [
    {
     "name": "stderr",
     "output_type": "stream",
     "text": [
      "/usr/local/lib/python3.4/dist-packages/matplotlib/collections.py:650: FutureWarning: elementwise comparison failed; returning scalar instead, but in the future will perform elementwise comparison\n",
      "  if self._edgecolors_original != str('face'):\n"
     ]
    },
    {
     "data": {
      "image/png": "[encoded data removed]",
      "text/plain": [
       "<matplotlib.figure.Figure at 0x7fb031b51a58>"
      ]
     },
     "metadata": {},
     "output_type": "display_data"
    }
   ],
   "source": [
    "grid = np.mgrid[-3:3:0.05, -3:3:0.05]\n",
    "density = np.array([[sps.multivariate_normal.pdf((grid[0, i, j], grid[1, i, j]), mean=[0, 0], cov=[[2, 1], [1, 2]])\n",
    "                       for i in range(grid[0].shape[0])]\n",
    "                      for j in range(grid[0].shape[1])])\n",
    "\n",
    "plt.figure(figsize=(14, 6))\n",
    "\n",
    "subplot(1, 2, 1)\n",
    "plt.pcolormesh(grid[0], grid[1], density, cmap='Oranges')  # закрасить с интенсивностью density, cmap - цветовая схема\n",
    "plt.xlim((np.min(grid[0]) + 0.2, np.max(grid[0]) - 0.2))\n",
    "plt.ylim((np.min(grid[1]) + 0.2, np.max(grid[1]) - 0.2))\n",
    "plt.title('Gaussian density')\n",
    "\n",
    "subplot(1, 2, 2)\n",
    "CS = plt.contour(grid[0], grid[1], density, [0.005, 0.02, 0.05, 0.085])  # нарисовать указанные линии уровня\n",
    "plt.clabel(CS, fontsize=14, inline=1, fmt='%1.3f')\n",
    "plt.xlim((np.min(grid[0]), np.max(grid[0])))\n",
    "plt.ylim((np.min(grid[1]), np.max(grid[1])))\n",
    "    \n",
    "plt.show()"
   ]
  },
  {
   "cell_type": "markdown",
   "metadata": {},
   "source": [
    "Итак, функции отрисовки\n",
    "<ul>\n",
    "    <li>`plt.scatter(x, y, params)` — нарисовать точки с координатами из $x$ по горизонтальной оси и из $y$ по вертикальной оси</li>\n",
    "    <li>`plt.plot(x, y, params)` — нарисовать график по точкам с координатами из $x$ по горизонтальной оси и из $y$ по вертикальной оси. Точки будут соединятся в том порядке, в котором они указаны в этих массивах.</li>\n",
    "    <li>`plt.fill_between(x, y1, y2, params)` — закрасить пространство между $y_1$ и $y_2$ по координатам из $x$.</li>\n",
    "    <li>`plt.pcolormesh(x1, x1, y, params)` — закрасить пространство в соответствии с интенсивностью $y$.</li>\n",
    "    <li>`plt.contour(x1, x1, y, lines)` — нарисовать линии уровня. Затем нужно применить `plt.clabel`</li>\n",
    "</ul>\n",
    "\n",
    "Вспомогательные функции\n",
    "<ul>\n",
    "    <li>`plt.figure(figsize=(x, y))` — создать график размера $(x, y)$</li>\n",
    "    <li>`plt.show()` — показать график.</li>\n",
    "    <li>`plt.subplot(...)` — добавить подграфик</li>\n",
    "    <li>`plt.xlim(x_min, x_max)` — установить пределы графика по горизонтальной оси</li>\n",
    "    <li>`plt.ylim(y_min, y_max)` — установить пределы графика по вертикальной оси</li>\n",
    "    <li>`plt.title(name)` — установить имя графика</li>\n",
    "    <li>`plt.xlabel(name)` — установить название горизонтальной оси</li>\n",
    "    <li>`plt.ylabel(name)` — установить название вертикальной оси</li>\n",
    "    <li>`plt.legend(loc=...)` — сделать легенду в позиции loc</li>\n",
    "    <li>`plt.grid()` — добавить сетку на график</li>\n",
    "    <li>`plt.savefig(filename)` — сохранить график в файл</li>\n",
    "</ul>\n",
    "\n",
    "Посмотрим еще, как рисовать 3D-графики"
   ]
  },
  {
   "cell_type": "code",
   "execution_count": 57,
   "metadata": {
    "collapsed": false
   },
   "outputs": [
    {
     "data": {
      "image/png": "[encoded data removed]",
      "text/plain": [
       "<matplotlib.figure.Figure at 0x7fb031bcd518>"
      ]
     },
     "metadata": {},
     "output_type": "display_data"
    }
   ],
   "source": [
    "from mpl_toolkits.mplot3d import Axes3D\n",
    "\n",
    "fig = plt.figure(figsize=(16, 10))\n",
    "ax = fig.gca(projection='3d')\n",
    "surf = ax.plot_surface(grid[0], grid[1], density, rstride=1, cstride=1, cmap='Oranges_r',\n",
    "                       linewidth=0, antialiased=False)\n",
    "ax.set_zlim(0, 0.1)\n",
    "fig.colorbar(surf, shrink=0.5, aspect=5)\n",
    "plt.show()"
   ]
  },
  {
   "cell_type": "markdown",
   "metadata": {},
   "source": [
    "Можно загрузить картинку из файла.\n",
    "Это будет обычный `numpy.array`.\n",
    "Размерность картинки $280 x 280$.\n",
    "По последней координате цвета RGB и прозрачность."
   ]
  },
  {
   "cell_type": "code",
   "execution_count": 58,
   "metadata": {
    "collapsed": false
   },
   "outputs": [
    {
     "name": "stdout",
     "output_type": "stream",
     "text": [
      "<class 'numpy.ndarray'> (280, 280, 4)\n"
     ]
    },
    {
     "data": {
      "image/png": "[encoded data removed]",
      "text/plain": [
       "<matplotlib.figure.Figure at 0x7fb031bcd160>"
      ]
     },
     "metadata": {},
     "output_type": "display_data"
    }
   ],
   "source": [
    "picture = plt.imread('python.png')\n",
    "print(type(picture), picture.shape)\n",
    "\n",
    "plt.imshow(picture)\n",
    "plt.axis('off')\n",
    "plt.show()"
   ]
  },
  {
   "cell_type": "markdown",
   "metadata": {},
   "source": [
    "У функций в `matplotlib` много параметров.\n",
    "Для того, чтобы посмотреть все параметры, можно воспользоваться справкой."
   ]
  },
  {
   "cell_type": "code",
   "execution_count": 59,
   "metadata": {
    "collapsed": false,
    "scrolled": false
   },
   "outputs": [],
   "source": [
    "# help(plt.plot)"
   ]
  }
 ],
 "metadata": {
  "kernelspec": {
   "display_name": "Python 2",
   "language": "python",
   "name": "python2"
  },
  "language_info": {
   "codemirror_mode": {
    "name": "ipython",
    "version": 2
   },
   "file_extension": ".py",
   "mimetype": "text/x-python",
   "name": "python",
   "nbconvert_exporter": "python",
   "pygments_lexer": "ipython2",
   "version": "2.7.11"
  }
 },
 "nbformat": 4,
 "nbformat_minor": 0
}
