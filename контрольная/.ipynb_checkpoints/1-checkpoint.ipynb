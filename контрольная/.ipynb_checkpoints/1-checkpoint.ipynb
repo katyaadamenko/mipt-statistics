{
 "cells": [
  {
   "cell_type": "code",
   "execution_count": 1,
   "metadata": {
    "collapsed": false
   },
   "outputs": [
    {
     "name": "stdout",
     "output_type": "stream",
     "text": [
      "Populating the interactive namespace from numpy and matplotlib\n"
     ]
    }
   ],
   "source": [
    "import numpy as np\n",
    "import scipy.stats as sps\n",
    "import matplotlib.pyplot as plt\n",
    "%pylab inline"
   ]
  },
  {
   "cell_type": "code",
   "execution_count": 9,
   "metadata": {
    "collapsed": true
   },
   "outputs": [],
   "source": [
    "N = 1000\n",
    "k = 10000\n",
    "theta = 5"
   ]
  },
  {
   "cell_type": "code",
   "execution_count": 17,
   "metadata": {
    "collapsed": false
   },
   "outputs": [],
   "source": [
    "sample = sps.uniform.rvs(loc=0, scale=theta, size=k*N)\n",
    "sample = sample.reshape((N, k))"
   ]
  },
  {
   "cell_type": "markdown",
   "metadata": {},
   "source": [
    "Оценка максимального правдоподобия для $R(0, \\theta)$ - $X_{(n)}$."
   ]
  },
  {
   "cell_type": "code",
   "execution_count": 30,
   "metadata": {
    "collapsed": false
   },
   "outputs": [],
   "source": [
    "est_1 = np.empty((N, k))\n",
    "for i in range(N):\n",
    "    est_1[i, :] = sample[:(i + 1), :].max(axis=0)"
   ]
  },
  {
   "cell_type": "code",
   "execution_count": 33,
   "metadata": {
    "collapsed": true
   },
   "outputs": [],
   "source": [
    "est_2 = np.cumsum(sample, axis=0)\n",
    "s = np.arange(1, N + 1, 1).reshape(N, 1)\n",
    "est_2 = est_2 / s\n",
    "est_2 = (est_2 * 2 + est_1) / 2"
   ]
  },
  {
   "cell_type": "markdown",
   "metadata": {},
   "source": [
    "По выборкам $\\widehat{\\theta_{j}^n}$ и $\\tilde{\\theta_{j}^n}$ найдем оценки дисперсий(выюорочная дисперсия $S^2 = \\frac{\\sum_{i=1}^n (X_i - \\overline{X})}{n}$):"
   ]
  },
  {
   "cell_type": "code",
   "execution_count": 50,
   "metadata": {
    "collapsed": true
   },
   "outputs": [],
   "source": [
    "def f_var(est):\n",
    "    theta_mean = (est.sum(1) / k).reshape(N, 1)\n",
    "    res = ((est - theta_mean) ** 2).sum(1) / k\n",
    "    return res"
   ]
  },
  {
   "cell_type": "markdown",
   "metadata": {},
   "source": [
    "Построим график зависимости дисперсий от n:"
   ]
  },
  {
   "cell_type": "code",
   "execution_count": 65,
   "metadata": {
    "collapsed": false
   },
   "outputs": [
    {
     "data": {
      "image/png": "[encoded data removed]",
      "text/plain": [
       "<matplotlib.figure.Figure at 0x7a2b588>"
      ]
     },
     "metadata": {},
     "output_type": "display_data"
    }
   ],
   "source": [
    "c = np.arange(1, N + 1, 1)\n",
    "plt.figure(figsize=(10, 6))\n",
    "\n",
    "plt.plot(c, f_var(est_1), linewidth = 2, label=r'$X_{(n)}$')\n",
    "plt.plot(c, f_var(est_2), linewidth = 2)\n",
    "plt.legend()\n",
    "plt.xlim(1, n)\n",
    "plt.ylim(0, 0.3)\n",
    "plt.xlabel('$n$', fontsize = 20)\n",
    "plt.title('Variance', fontsize = 15)\n",
    "plt.grid() \n",
    "plt.show()"
   ]
  },
  {
   "cell_type": "markdown",
   "metadata": {},
   "source": [
    "Из графика видно, что дисперсия для обеих оценок уменьшается при увеличении n. При этом при всех n дисперсия оценки максимального правдоподобия меньше. "
   ]
  }
 ],
 "metadata": {
  "kernelspec": {
   "display_name": "Python 2",
   "language": "python",
   "name": "python2"
  },
  "language_info": {
   "codemirror_mode": {
    "name": "ipython",
    "version": 2
   },
   "file_extension": ".py",
   "mimetype": "text/x-python",
   "name": "python",
   "nbconvert_exporter": "python",
   "pygments_lexer": "ipython2",
   "version": "2.7.11"
  }
 },
 "nbformat": 4,
 "nbformat_minor": 0
}
