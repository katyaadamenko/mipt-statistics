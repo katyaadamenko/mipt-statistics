{
 "cells": [
  {
   "cell_type": "code",
   "execution_count": 1,
   "metadata": {
    "collapsed": true
   },
   "outputs": [],
   "source": [
    "# cyrylic # coding: utf-8"
   ]
  },
  {
   "cell_type": "markdown",
   "metadata": {},
   "source": [
    "# Центральная предельная теорема своими руками\n",
    "### Вячеслав Самуха 11.08.2016"
   ]
  },
  {
   "cell_type": "code",
   "execution_count": 3,
   "metadata": {
    "collapsed": true
   },
   "outputs": [],
   "source": [
    "# подключаем все необходимые в дальнейшем библиотеки"
   ]
  },
  {
   "cell_type": "code",
   "execution_count": 43,
   "metadata": {
    "collapsed": true
   },
   "outputs": [],
   "source": [
    "# импортируем библиотеки\n",
    "import pandas as pd\n",
    "import numpy as np\n",
    "import matplotlib.pyplot as plt\n",
    "import scipy.stats as sts\n",
    "get_ipython().magic('matplotlib inline')\n",
    "import random\n",
    "import math"
   ]
  },
  {
   "cell_type": "markdown",
   "metadata": {},
   "source": [
    "#### Шаг 0. Выбираем распределение, на котором будем проверять ЦПТ, строим исходную случайную величину и её распределение"
   ]
  },
  {
   "cell_type": "markdown",
   "metadata": {},
   "source": [
    "Выбираем непрерывное распределение - ХИ-квадрат с числом степеней свободы k=7. \n",
    "Описание этого распределения и его свойства - https://en.wikipedia.org/wiki/Chi-squared_distribution. \n",
    "\n",
    "Математическое ожидание   μ  этого распределения  μ = k = 7.\n",
    "\n",
    "Дисперсия этого распределения  $ \\mathbb {\\sigma }^2$= 2*k = 14"
   ]
  },
  {
   "cell_type": "code",
   "execution_count": 44,
   "metadata": {
    "collapsed": false
   },
   "outputs": [],
   "source": [
    "# выбираем непрерывное распределение - ХИ-квадрат с числом степеней свободы k=7\n",
    "k=7\n",
    "rv = sts.chi2(k)\n",
    "mu=k\n",
    "disp = 2*k\n",
    "sigma= math.sqrt(disp)"
   ]
  },
  {
   "cell_type": "code",
   "execution_count": 45,
   "metadata": {
    "collapsed": false
   },
   "outputs": [],
   "source": [
    "# Генерируем случайную выборку R объемом 1000 из заданного распределения ХИ-квадрат\n",
    "random.seed=482\n",
    "r = rv.rvs(size=1000)"
   ]
  },
  {
   "cell_type": "code",
   "execution_count": 46,
   "metadata": {
    "collapsed": false
   },
   "outputs": [
    {
     "name": "stdout",
     "output_type": "stream",
     "text": [
      "Теоретические значения: математическое ожидание= 7 , дисперсия= 14 , среднеквадратичное отклонение= 3.74165738677\n",
      "Значения по сгенерированной случайной выборке: мат.ожидание= 6.96025181653 , дисперсия= 14.2241413162 , СКО= 3.77149059606\n"
     ]
    }
   ],
   "source": [
    "# Рассчитаем реальные статистические характеристики этой выборки, и увидим - \n",
    "# математическое ожидание μ и дисперсия - мало отличаются от теоретических (7 и 14)\n",
    "mu_r = np.mean(r)\n",
    "disp_r= np.var(r)\n",
    "sigma_r = np.std(r)\n",
    "print \"Теоретические значения: математическое ожидание=\", mu, \", дисперсия=\", disp, \", среднеквадратичное отклонение=\", sigma\n",
    "print \"Значения по сгенерированной случайной выборке: мат.ожидание=\",  mu_r, \", дисперсия=\",disp_r, \", СКО=\", sigma_r\n"
   ]
  },
  {
   "cell_type": "code",
   "execution_count": 47,
   "metadata": {
    "collapsed": false
   },
   "outputs": [
    {
     "data": {
      "image/png": "[encoded data removed]",
      "text/plain": [
       "<matplotlib.figure.Figure at 0xaac3270>"
      ]
     },
     "metadata": {},
     "output_type": "display_data"
    }
   ],
   "source": [
    "# рисуем гистограмму  и  плотность распределения случайной величины \n",
    "x = np.linspace(0,20,100)\n",
    "plt.hist(r, 30, normed=True,  label='sample histogram')\n",
    "pdf = rv.pdf(x)\n",
    "plt.plot(x, pdf, label='theoretical pdf')\n",
    "plt.ylabel('number of samples')\n",
    "plt.xlabel('$x$')\n",
    "plt.legend()\n",
    "plt.show()"
   ]
  },
  {
   "cell_type": "markdown",
   "metadata": {},
   "source": [
    "#### Шаг 1. Проверка Центральной предельной теоремы на выборочных средних объёма 5."
   ]
  },
  {
   "cell_type": "code",
   "execution_count": 48,
   "metadata": {
    "collapsed": true
   },
   "outputs": [],
   "source": [
    "# далее из общей начальной выборки формируем 1000 случайных выборок по 5 элементов в каждой\n",
    "# для последующего формирования списков выборочных средних "
   ]
  },
  {
   "cell_type": "code",
   "execution_count": 49,
   "metadata": {
    "collapsed": false
   },
   "outputs": [],
   "source": [
    "n1=5.\n",
    "f5 = [(random.sample(list(r), int(n1))) for i in range(0,1000)]"
   ]
  },
  {
   "cell_type": "code",
   "execution_count": 50,
   "metadata": {
    "collapsed": false
   },
   "outputs": [],
   "source": [
    "# инициализируем список выборочного среднего MasAverage5 для выборок по 5 элементов и заполняем его\n",
    "MasAverage5=[]\n",
    "for i in range(0,1000):\n",
    "    average=np.mean(f5[(i)])\n",
    "    MasAverage5.append(average)"
   ]
  },
  {
   "cell_type": "code",
   "execution_count": 51,
   "metadata": {
    "collapsed": false
   },
   "outputs": [
    {
     "name": "stdout",
     "output_type": "stream",
     "text": [
      "Теоретические значения: математическое ожидание= 7 , среднеквадратичное отклонение= 1.67332005307\n",
      "По выборке средних: мат.ожидание= 6.96707338859 , среднеквадратичное отклонение= 1.72005929333\n"
     ]
    }
   ],
   "source": [
    "# Рассчитаем реальные статистические характеристики этой выборки, и увидим - \n",
    "# математическое ожидание μ и дисперсия - мало отличаются от теоретических, полученных из ЦПТ \n",
    "mu_theo5 = mu\n",
    "sigma_theo5 = sigma/np.sqrt(n1)\n",
    "print \"Теоретические значения: математическое ожидание=\", mu_theo5, \", среднеквадратичное отклонение=\", sigma_theo5\n",
    "print \"По выборке средних: мат.ожидание=\", np.mean(MasAverage5), \", среднеквадратичное отклонение=\", np.std(MasAverage5)"
   ]
  },
  {
   "cell_type": "code",
   "execution_count": 52,
   "metadata": {
    "collapsed": false
   },
   "outputs": [
    {
     "data": {
      "image/png": "[encoded data removed]",
      "text/plain": [
       "<matplotlib.figure.Figure at 0xa405f10>"
      ]
     },
     "metadata": {},
     "output_type": "display_data"
    }
   ],
   "source": [
    "#строим гистограмму из выборочных средних , и график функции плотности\n",
    "x = np.linspace(0,25,100)\n",
    "plt.hist (MasAverage5, 20, normed=True, label='sample size = 5')\n",
    "f_norm_rasp = sts.norm(mu,sigma_theo5)\n",
    "pdf = f_norm_rasp.pdf(x)\n",
    "plt.plot(x, pdf, label='theoretical normal pdf')\n",
    "plt.ylabel('number of samples')\n",
    "plt.xlabel('$x$')\n",
    "plt.legend()\n",
    "plt.title(\"n=5\")\n",
    "plt.show ()"
   ]
  },
  {
   "cell_type": "code",
   "execution_count": 53,
   "metadata": {
    "collapsed": true
   },
   "outputs": [],
   "source": [
    "# видим как распределение выборочных средних соответствует его теоретическому распределению согласно Ц.П.Т."
   ]
  },
  {
   "cell_type": "markdown",
   "metadata": {},
   "source": [
    "#### Шаг 2. Проверка Центральной предельной теоремы на выборочных средних объёма 10."
   ]
  },
  {
   "cell_type": "code",
   "execution_count": 54,
   "metadata": {
    "collapsed": true
   },
   "outputs": [],
   "source": [
    "# Следующий шаг - из общей начальной выборки формируем 1000 случайных выборок уже по 10 элементов в каждой\n",
    "# для последующего формирования списков выборочных средних "
   ]
  },
  {
   "cell_type": "code",
   "execution_count": 55,
   "metadata": {
    "collapsed": false
   },
   "outputs": [],
   "source": [
    "n2=10.\n",
    "f10 = [(random.sample(list(r), int(n2))) for i in range(0,1000)]"
   ]
  },
  {
   "cell_type": "code",
   "execution_count": 56,
   "metadata": {
    "collapsed": true
   },
   "outputs": [],
   "source": [
    "# наполняем массив выборочных средних MasAverage10 для выборок по 10 элементов каждая\n",
    "MasAverage10=[]\n",
    "for i in range(0,1000):\n",
    "    average=np.mean(f10[(i)])\n",
    "    MasAverage10.append(average)"
   ]
  },
  {
   "cell_type": "code",
   "execution_count": 57,
   "metadata": {
    "collapsed": false
   },
   "outputs": [
    {
     "name": "stdout",
     "output_type": "stream",
     "text": [
      "Теоретические значения: математическое ожидание= 7 , среднеквадратичное отклонение= 1.18321595662\n",
      "По выборке средних: мат.ожидание= 6.93012115072 , среднеквадратичное отклонение= 1.18008708234\n"
     ]
    }
   ],
   "source": [
    "# Рассчитаем реальные статистические характеристики этой выборки, и увидим - \n",
    "# математическое ожидание μ и дисперсия - мало отличаются от теоретических, полученных из ЦПТ \n",
    "mu_theo10 = mu\n",
    "sigma_theo10 = sigma/np.sqrt(n2)\n",
    "print \"Теоретические значения: математическое ожидание=\", mu_theo10, \", среднеквадратичное отклонение=\", sigma_theo10\n",
    "print \"По выборке средних: мат.ожидание=\", np.mean(MasAverage10), \", среднеквадратичное отклонение=\", np.std(MasAverage10)"
   ]
  },
  {
   "cell_type": "code",
   "execution_count": 58,
   "metadata": {
    "collapsed": false
   },
   "outputs": [
    {
     "data": {
      "image/png": "[encoded data removed]",
      "text/plain": [
       "<matplotlib.figure.Figure at 0xa24ce30>"
      ]
     },
     "metadata": {},
     "output_type": "display_data"
    }
   ],
   "source": [
    "#строим гистограмму из выборочных средних , и график функции плотности\n",
    "plt.hist (MasAverage10, 20, normed=True, label='sample size = 10')\n",
    "f_norm_rasp = sts.norm(mu,sigma_theo10)\n",
    "pdf = f_norm_rasp.pdf(x)\n",
    "plt.plot(x, pdf, label='theoretical normal pdf')\n",
    "plt.ylabel('number of samples')\n",
    "plt.xlabel('$x$')\n",
    "plt.legend()\n",
    "plt.title(\" n=10\")\n",
    "plt.show ()"
   ]
  },
  {
   "cell_type": "code",
   "execution_count": 59,
   "metadata": {
    "collapsed": true
   },
   "outputs": [],
   "source": [
    "# видим что с возрастанием объёма выборочных средних их распределение становится все более стройным и близким к нормальному"
   ]
  },
  {
   "cell_type": "markdown",
   "metadata": {},
   "source": [
    "#### Шаг 3. Проверка Центральной предельной теоремы на выборочных средних объёма 50."
   ]
  },
  {
   "cell_type": "code",
   "execution_count": 60,
   "metadata": {
    "collapsed": true
   },
   "outputs": [],
   "source": [
    "# Шаг3 - из общей начальной выборки формируем 1000 случайных выборок уже по 50 элементов в каждой\n",
    "# для последующего формирования списков выборочных средних "
   ]
  },
  {
   "cell_type": "code",
   "execution_count": 61,
   "metadata": {
    "collapsed": false
   },
   "outputs": [],
   "source": [
    "n3=50.\n",
    "f50 = [(random.sample(list(r), int(n3))) for i in range(0,1000)]"
   ]
  },
  {
   "cell_type": "code",
   "execution_count": 62,
   "metadata": {
    "collapsed": true
   },
   "outputs": [],
   "source": [
    "# наполняем массив выборочных средних MasAverage50 для выборок  по 50 элементов каждая\n",
    "MasAverage50=[]\n",
    "for i in range(0,1000):\n",
    "    average=np.mean(f50[(i)])\n",
    "    MasAverage50.append(average)"
   ]
  },
  {
   "cell_type": "code",
   "execution_count": 63,
   "metadata": {
    "collapsed": false
   },
   "outputs": [
    {
     "name": "stdout",
     "output_type": "stream",
     "text": [
      "Теоретические значения: математическое ожидание= 7 , среднеквадратичное отклонение= 0.529150262213\n",
      "По выборке средних: мат.ожидание= 6.93873243178 , среднеквадратичное отклонение= 0.532659205339\n"
     ]
    }
   ],
   "source": [
    "# Рассчитаем реальные статистические характеристики этой выборки, и увидим - \n",
    "# математическое ожидание μ и дисперсия - мало отличаются от теоретических, полученных из ЦПТ \n",
    "mu_theo50 = mu\n",
    "sigma_theo50 = sigma/np.sqrt(n3)\n",
    "print \"Теоретические значения: математическое ожидание=\", mu_theo50, \", среднеквадратичное отклонение=\", sigma_theo50\n",
    "print \"По выборке средних: мат.ожидание=\", np.mean(MasAverage50), \", среднеквадратичное отклонение=\", np.std(MasAverage50)"
   ]
  },
  {
   "cell_type": "code",
   "execution_count": 64,
   "metadata": {
    "collapsed": false
   },
   "outputs": [
    {
     "data": {
      "image/png": "[encoded data removed]",
      "text/plain": [
       "<matplotlib.figure.Figure at 0x96ed810>"
      ]
     },
     "metadata": {},
     "output_type": "display_data"
    }
   ],
   "source": [
    "#строим гистограмму из выборочных средних , и график функции плотности\n",
    "plt.hist (MasAverage50, 20, normed=True, label='sample size = 50')\n",
    "f_norm_rasp = sts.norm(mu,sigma_theo50)\n",
    "pdf = f_norm_rasp.pdf(x)\n",
    "plt.plot(x, pdf, label='theoretical normal pdf')\n",
    "plt.ylabel('number of samples')\n",
    "plt.xlabel('$x$')\n",
    "plt.legend()\n",
    "plt.title(\" n=50\")\n",
    "plt.show ()"
   ]
  },
  {
   "cell_type": "code",
   "execution_count": 65,
   "metadata": {
    "collapsed": true
   },
   "outputs": [],
   "source": [
    "# видим, что при увеличении объёма выборок для формирования выборочных средних - распределение выборочных  средних \n",
    "# становится все более гладким, симметричным, и близким к нормальному, как то и предписано центральной предельной теоремой."
   ]
  },
  {
   "cell_type": "markdown",
   "metadata": {
    "collapsed": true
   },
   "source": [
    "__Выводы__: распределение выборочных средних при росте объёма выборок уменьшают дисперсию (разброс) относительно математического ожидания исходного распределения. И чем больше объём выборок, из которых сформированы выборочные средние,  -  тем лучше соответствует нормальному распределению гистограмма выборочных средних."
   ]
  }
 ],
 "metadata": {
  "anaconda-cloud": {},
  "kernelspec": {
   "display_name": "Python 2",
   "language": "python",
   "name": "python2"
  },
  "language_info": {
   "codemirror_mode": {
    "name": "ipython",
    "version": 2
   },
   "file_extension": ".py",
   "mimetype": "text/x-python",
   "name": "python",
   "nbconvert_exporter": "python",
   "pygments_lexer": "ipython2",
   "version": "2.7.11"
  }
 },
 "nbformat": 4,
 "nbformat_minor": 0
}
